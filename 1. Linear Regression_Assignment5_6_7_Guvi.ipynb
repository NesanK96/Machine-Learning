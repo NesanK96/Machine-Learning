{
  "cells": [
    {
      "cell_type": "code",
      "execution_count": null,
      "metadata": {
        "id": "4JSEQF9FvZdJ"
      },
      "outputs": [],
      "source": [
        "import pandas as pd\n",
        "import numpy as np\n",
        "import matplotlib.pyplot as plt\n",
        "from sklearn import linear_model"
      ]
    },
    {
      "cell_type": "markdown",
      "metadata": {
        "id": "HFdmB6gwvZdL"
      },
      "source": [
        "# Assignment5\n"
      ]
    },
    {
      "cell_type": "markdown",
      "metadata": {
        "id": "rNVOP2sDvZdN"
      },
      "source": [
        "## Ground Cricket Chirps\n",
        "\n",
        "In _The Song of Insects_ (1948) by George W. Pierce, Pierce mechanically measured the frequency (the number of wing vibrations per second) of chirps (or pulses of sound) made by a striped ground cricket, at various ground temperatures.  Since crickets are ectotherms (cold-blooded), the rate of their physiological processes and their overall metabolism are influenced by temperature.  Consequently, there is reason to believe that temperature would have a profound effect on aspects of their behavior, such as chirp frequency.\n",
        "\n",
        "In general, it was found that crickets did not sing at temperatures colder than 60º F. or warmer than 100º F."
      ]
    },
    {
      "cell_type": "code",
      "execution_count": null,
      "metadata": {
        "id": "sesuYQKqvZdN"
      },
      "outputs": [],
      "source": [
        "ground_cricket_data = {\"Chirps/Second\": [20.0, 16.0, 19.8, 18.4, 17.1, 15.5, 14.7,\n",
        "                                         15.7, 15.4, 16.3, 15.0, 17.2, 16.0, 17.0,\n",
        "                                         14.4],\n",
        "                       \"Ground Temperature\": [88.6, 71.6, 93.3, 84.3, 80.6, 75.2, 69.7,\n",
        "                                              71.6, 69.4, 83.3, 79.6, 82.6, 80.6, 83.5,\n",
        "                                              76.3]}\n",
        "df = pd.DataFrame(ground_cricket_data)"
      ]
    },
    {
      "cell_type": "code",
      "source": [
        "df"
      ],
      "metadata": {
        "colab": {
          "base_uri": "https://localhost:8080/",
          "height": 520
        },
        "id": "1aN8vWa9_RMh",
        "outputId": "2723bfea-191c-4ece-9d78-08bc25ae68a0"
      },
      "execution_count": null,
      "outputs": [
        {
          "output_type": "execute_result",
          "data": {
            "text/plain": [
              "    Chirps/Second  Ground Temperature\n",
              "0            20.0                88.6\n",
              "1            16.0                71.6\n",
              "2            19.8                93.3\n",
              "3            18.4                84.3\n",
              "4            17.1                80.6\n",
              "5            15.5                75.2\n",
              "6            14.7                69.7\n",
              "7            15.7                71.6\n",
              "8            15.4                69.4\n",
              "9            16.3                83.3\n",
              "10           15.0                79.6\n",
              "11           17.2                82.6\n",
              "12           16.0                80.6\n",
              "13           17.0                83.5\n",
              "14           14.4                76.3"
            ],
            "text/html": [
              "\n",
              "  <div id=\"df-2b820fa7-30a3-48a8-971a-fd4e48c7e11b\">\n",
              "    <div class=\"colab-df-container\">\n",
              "      <div>\n",
              "<style scoped>\n",
              "    .dataframe tbody tr th:only-of-type {\n",
              "        vertical-align: middle;\n",
              "    }\n",
              "\n",
              "    .dataframe tbody tr th {\n",
              "        vertical-align: top;\n",
              "    }\n",
              "\n",
              "    .dataframe thead th {\n",
              "        text-align: right;\n",
              "    }\n",
              "</style>\n",
              "<table border=\"1\" class=\"dataframe\">\n",
              "  <thead>\n",
              "    <tr style=\"text-align: right;\">\n",
              "      <th></th>\n",
              "      <th>Chirps/Second</th>\n",
              "      <th>Ground Temperature</th>\n",
              "    </tr>\n",
              "  </thead>\n",
              "  <tbody>\n",
              "    <tr>\n",
              "      <th>0</th>\n",
              "      <td>20.0</td>\n",
              "      <td>88.6</td>\n",
              "    </tr>\n",
              "    <tr>\n",
              "      <th>1</th>\n",
              "      <td>16.0</td>\n",
              "      <td>71.6</td>\n",
              "    </tr>\n",
              "    <tr>\n",
              "      <th>2</th>\n",
              "      <td>19.8</td>\n",
              "      <td>93.3</td>\n",
              "    </tr>\n",
              "    <tr>\n",
              "      <th>3</th>\n",
              "      <td>18.4</td>\n",
              "      <td>84.3</td>\n",
              "    </tr>\n",
              "    <tr>\n",
              "      <th>4</th>\n",
              "      <td>17.1</td>\n",
              "      <td>80.6</td>\n",
              "    </tr>\n",
              "    <tr>\n",
              "      <th>5</th>\n",
              "      <td>15.5</td>\n",
              "      <td>75.2</td>\n",
              "    </tr>\n",
              "    <tr>\n",
              "      <th>6</th>\n",
              "      <td>14.7</td>\n",
              "      <td>69.7</td>\n",
              "    </tr>\n",
              "    <tr>\n",
              "      <th>7</th>\n",
              "      <td>15.7</td>\n",
              "      <td>71.6</td>\n",
              "    </tr>\n",
              "    <tr>\n",
              "      <th>8</th>\n",
              "      <td>15.4</td>\n",
              "      <td>69.4</td>\n",
              "    </tr>\n",
              "    <tr>\n",
              "      <th>9</th>\n",
              "      <td>16.3</td>\n",
              "      <td>83.3</td>\n",
              "    </tr>\n",
              "    <tr>\n",
              "      <th>10</th>\n",
              "      <td>15.0</td>\n",
              "      <td>79.6</td>\n",
              "    </tr>\n",
              "    <tr>\n",
              "      <th>11</th>\n",
              "      <td>17.2</td>\n",
              "      <td>82.6</td>\n",
              "    </tr>\n",
              "    <tr>\n",
              "      <th>12</th>\n",
              "      <td>16.0</td>\n",
              "      <td>80.6</td>\n",
              "    </tr>\n",
              "    <tr>\n",
              "      <th>13</th>\n",
              "      <td>17.0</td>\n",
              "      <td>83.5</td>\n",
              "    </tr>\n",
              "    <tr>\n",
              "      <th>14</th>\n",
              "      <td>14.4</td>\n",
              "      <td>76.3</td>\n",
              "    </tr>\n",
              "  </tbody>\n",
              "</table>\n",
              "</div>\n",
              "      <button class=\"colab-df-convert\" onclick=\"convertToInteractive('df-2b820fa7-30a3-48a8-971a-fd4e48c7e11b')\"\n",
              "              title=\"Convert this dataframe to an interactive table.\"\n",
              "              style=\"display:none;\">\n",
              "        \n",
              "  <svg xmlns=\"http://www.w3.org/2000/svg\" height=\"24px\"viewBox=\"0 0 24 24\"\n",
              "       width=\"24px\">\n",
              "    <path d=\"M0 0h24v24H0V0z\" fill=\"none\"/>\n",
              "    <path d=\"M18.56 5.44l.94 2.06.94-2.06 2.06-.94-2.06-.94-.94-2.06-.94 2.06-2.06.94zm-11 1L8.5 8.5l.94-2.06 2.06-.94-2.06-.94L8.5 2.5l-.94 2.06-2.06.94zm10 10l.94 2.06.94-2.06 2.06-.94-2.06-.94-.94-2.06-.94 2.06-2.06.94z\"/><path d=\"M17.41 7.96l-1.37-1.37c-.4-.4-.92-.59-1.43-.59-.52 0-1.04.2-1.43.59L10.3 9.45l-7.72 7.72c-.78.78-.78 2.05 0 2.83L4 21.41c.39.39.9.59 1.41.59.51 0 1.02-.2 1.41-.59l7.78-7.78 2.81-2.81c.8-.78.8-2.07 0-2.86zM5.41 20L4 18.59l7.72-7.72 1.47 1.35L5.41 20z\"/>\n",
              "  </svg>\n",
              "      </button>\n",
              "      \n",
              "  <style>\n",
              "    .colab-df-container {\n",
              "      display:flex;\n",
              "      flex-wrap:wrap;\n",
              "      gap: 12px;\n",
              "    }\n",
              "\n",
              "    .colab-df-convert {\n",
              "      background-color: #E8F0FE;\n",
              "      border: none;\n",
              "      border-radius: 50%;\n",
              "      cursor: pointer;\n",
              "      display: none;\n",
              "      fill: #1967D2;\n",
              "      height: 32px;\n",
              "      padding: 0 0 0 0;\n",
              "      width: 32px;\n",
              "    }\n",
              "\n",
              "    .colab-df-convert:hover {\n",
              "      background-color: #E2EBFA;\n",
              "      box-shadow: 0px 1px 2px rgba(60, 64, 67, 0.3), 0px 1px 3px 1px rgba(60, 64, 67, 0.15);\n",
              "      fill: #174EA6;\n",
              "    }\n",
              "\n",
              "    [theme=dark] .colab-df-convert {\n",
              "      background-color: #3B4455;\n",
              "      fill: #D2E3FC;\n",
              "    }\n",
              "\n",
              "    [theme=dark] .colab-df-convert:hover {\n",
              "      background-color: #434B5C;\n",
              "      box-shadow: 0px 1px 3px 1px rgba(0, 0, 0, 0.15);\n",
              "      filter: drop-shadow(0px 1px 2px rgba(0, 0, 0, 0.3));\n",
              "      fill: #FFFFFF;\n",
              "    }\n",
              "  </style>\n",
              "\n",
              "      <script>\n",
              "        const buttonEl =\n",
              "          document.querySelector('#df-2b820fa7-30a3-48a8-971a-fd4e48c7e11b button.colab-df-convert');\n",
              "        buttonEl.style.display =\n",
              "          google.colab.kernel.accessAllowed ? 'block' : 'none';\n",
              "\n",
              "        async function convertToInteractive(key) {\n",
              "          const element = document.querySelector('#df-2b820fa7-30a3-48a8-971a-fd4e48c7e11b');\n",
              "          const dataTable =\n",
              "            await google.colab.kernel.invokeFunction('convertToInteractive',\n",
              "                                                     [key], {});\n",
              "          if (!dataTable) return;\n",
              "\n",
              "          const docLinkHtml = 'Like what you see? Visit the ' +\n",
              "            '<a target=\"_blank\" href=https://colab.research.google.com/notebooks/data_table.ipynb>data table notebook</a>'\n",
              "            + ' to learn more about interactive tables.';\n",
              "          element.innerHTML = '';\n",
              "          dataTable['output_type'] = 'display_data';\n",
              "          await google.colab.output.renderOutput(dataTable, element);\n",
              "          const docLink = document.createElement('div');\n",
              "          docLink.innerHTML = docLinkHtml;\n",
              "          element.appendChild(docLink);\n",
              "        }\n",
              "      </script>\n",
              "    </div>\n",
              "  </div>\n",
              "  "
            ]
          },
          "metadata": {},
          "execution_count": 80
        }
      ]
    },
    {
      "cell_type": "code",
      "source": [
        "df.plot(x='Ground Temperature', y='Chirps/Second', style = 'o')\n",
        "plt.title('Ground Temperature vs Chirps/Second')\n",
        "plt.xlabel('Ground Temperature')\n",
        "plt.ylabel('Chirps/Second')\n",
        "plt.show()"
      ],
      "metadata": {
        "colab": {
          "base_uri": "https://localhost:8080/",
          "height": 295
        },
        "id": "Bag1BX9BPTl8",
        "outputId": "99561d47-786a-4f93-d40c-36cd797bd7eb"
      },
      "execution_count": null,
      "outputs": [
        {
          "output_type": "display_data",
          "data": {
            "text/plain": [
              "<Figure size 432x288 with 1 Axes>"
            ],
            "image/png": "[encoded data removed]"
          },
          "metadata": {
            "needs_background": "light"
          }
        }
      ]
    },
    {
      "cell_type": "code",
      "source": [
        "df.describe()"
      ],
      "metadata": {
        "colab": {
          "base_uri": "https://localhost:8080/",
          "height": 300
        },
        "id": "h5Vdn9Gq0QJf",
        "outputId": "b99fee7c-21c5-46bc-83df-3239a4ecc5b4"
      },
      "execution_count": null,
      "outputs": [
        {
          "output_type": "execute_result",
          "data": {
            "text/plain": [
              "       Chirps/Second  Ground Temperature\n",
              "count      15.000000           15.000000\n",
              "mean       16.566667           79.346667\n",
              "std         1.712837            7.020467\n",
              "min        14.400000           69.400000\n",
              "25%        15.450000           73.400000\n",
              "50%        16.000000           80.600000\n",
              "75%        17.150000           83.400000\n",
              "max        20.000000           93.300000"
            ],
            "text/html": [
              "\n",
              "  <div id=\"df-65a043f5-93f8-4abc-8db8-bb445072c570\">\n",
              "    <div class=\"colab-df-container\">\n",
              "      <div>\n",
              "<style scoped>\n",
              "    .dataframe tbody tr th:only-of-type {\n",
              "        vertical-align: middle;\n",
              "    }\n",
              "\n",
              "    .dataframe tbody tr th {\n",
              "        vertical-align: top;\n",
              "    }\n",
              "\n",
              "    .dataframe thead th {\n",
              "        text-align: right;\n",
              "    }\n",
              "</style>\n",
              "<table border=\"1\" class=\"dataframe\">\n",
              "  <thead>\n",
              "    <tr style=\"text-align: right;\">\n",
              "      <th></th>\n",
              "      <th>Chirps/Second</th>\n",
              "      <th>Ground Temperature</th>\n",
              "    </tr>\n",
              "  </thead>\n",
              "  <tbody>\n",
              "    <tr>\n",
              "      <th>count</th>\n",
              "      <td>15.000000</td>\n",
              "      <td>15.000000</td>\n",
              "    </tr>\n",
              "    <tr>\n",
              "      <th>mean</th>\n",
              "      <td>16.566667</td>\n",
              "      <td>79.346667</td>\n",
              "    </tr>\n",
              "    <tr>\n",
              "      <th>std</th>\n",
              "      <td>1.712837</td>\n",
              "      <td>7.020467</td>\n",
              "    </tr>\n",
              "    <tr>\n",
              "      <th>min</th>\n",
              "      <td>14.400000</td>\n",
              "      <td>69.400000</td>\n",
              "    </tr>\n",
              "    <tr>\n",
              "      <th>25%</th>\n",
              "      <td>15.450000</td>\n",
              "      <td>73.400000</td>\n",
              "    </tr>\n",
              "    <tr>\n",
              "      <th>50%</th>\n",
              "      <td>16.000000</td>\n",
              "      <td>80.600000</td>\n",
              "    </tr>\n",
              "    <tr>\n",
              "      <th>75%</th>\n",
              "      <td>17.150000</td>\n",
              "      <td>83.400000</td>\n",
              "    </tr>\n",
              "    <tr>\n",
              "      <th>max</th>\n",
              "      <td>20.000000</td>\n",
              "      <td>93.300000</td>\n",
              "    </tr>\n",
              "  </tbody>\n",
              "</table>\n",
              "</div>\n",
              "      <button class=\"colab-df-convert\" onclick=\"convertToInteractive('df-65a043f5-93f8-4abc-8db8-bb445072c570')\"\n",
              "              title=\"Convert this dataframe to an interactive table.\"\n",
              "              style=\"display:none;\">\n",
              "        \n",
              "  <svg xmlns=\"http://www.w3.org/2000/svg\" height=\"24px\"viewBox=\"0 0 24 24\"\n",
              "       width=\"24px\">\n",
              "    <path d=\"M0 0h24v24H0V0z\" fill=\"none\"/>\n",
              "    <path d=\"M18.56 5.44l.94 2.06.94-2.06 2.06-.94-2.06-.94-.94-2.06-.94 2.06-2.06.94zm-11 1L8.5 8.5l.94-2.06 2.06-.94-2.06-.94L8.5 2.5l-.94 2.06-2.06.94zm10 10l.94 2.06.94-2.06 2.06-.94-2.06-.94-.94-2.06-.94 2.06-2.06.94z\"/><path d=\"M17.41 7.96l-1.37-1.37c-.4-.4-.92-.59-1.43-.59-.52 0-1.04.2-1.43.59L10.3 9.45l-7.72 7.72c-.78.78-.78 2.05 0 2.83L4 21.41c.39.39.9.59 1.41.59.51 0 1.02-.2 1.41-.59l7.78-7.78 2.81-2.81c.8-.78.8-2.07 0-2.86zM5.41 20L4 18.59l7.72-7.72 1.47 1.35L5.41 20z\"/>\n",
              "  </svg>\n",
              "      </button>\n",
              "      \n",
              "  <style>\n",
              "    .colab-df-container {\n",
              "      display:flex;\n",
              "      flex-wrap:wrap;\n",
              "      gap: 12px;\n",
              "    }\n",
              "\n",
              "    .colab-df-convert {\n",
              "      background-color: #E8F0FE;\n",
              "      border: none;\n",
              "      border-radius: 50%;\n",
              "      cursor: pointer;\n",
              "      display: none;\n",
              "      fill: #1967D2;\n",
              "      height: 32px;\n",
              "      padding: 0 0 0 0;\n",
              "      width: 32px;\n",
              "    }\n",
              "\n",
              "    .colab-df-convert:hover {\n",
              "      background-color: #E2EBFA;\n",
              "      box-shadow: 0px 1px 2px rgba(60, 64, 67, 0.3), 0px 1px 3px 1px rgba(60, 64, 67, 0.15);\n",
              "      fill: #174EA6;\n",
              "    }\n",
              "\n",
              "    [theme=dark] .colab-df-convert {\n",
              "      background-color: #3B4455;\n",
              "      fill: #D2E3FC;\n",
              "    }\n",
              "\n",
              "    [theme=dark] .colab-df-convert:hover {\n",
              "      background-color: #434B5C;\n",
              "      box-shadow: 0px 1px 3px 1px rgba(0, 0, 0, 0.15);\n",
              "      filter: drop-shadow(0px 1px 2px rgba(0, 0, 0, 0.3));\n",
              "      fill: #FFFFFF;\n",
              "    }\n",
              "  </style>\n",
              "\n",
              "      <script>\n",
              "        const buttonEl =\n",
              "          document.querySelector('#df-65a043f5-93f8-4abc-8db8-bb445072c570 button.colab-df-convert');\n",
              "        buttonEl.style.display =\n",
              "          google.colab.kernel.accessAllowed ? 'block' : 'none';\n",
              "\n",
              "        async function convertToInteractive(key) {\n",
              "          const element = document.querySelector('#df-65a043f5-93f8-4abc-8db8-bb445072c570');\n",
              "          const dataTable =\n",
              "            await google.colab.kernel.invokeFunction('convertToInteractive',\n",
              "                                                     [key], {});\n",
              "          if (!dataTable) return;\n",
              "\n",
              "          const docLinkHtml = 'Like what you see? Visit the ' +\n",
              "            '<a target=\"_blank\" href=https://colab.research.google.com/notebooks/data_table.ipynb>data table notebook</a>'\n",
              "            + ' to learn more about interactive tables.';\n",
              "          element.innerHTML = '';\n",
              "          dataTable['output_type'] = 'display_data';\n",
              "          await google.colab.output.renderOutput(dataTable, element);\n",
              "          const docLink = document.createElement('div');\n",
              "          docLink.innerHTML = docLinkHtml;\n",
              "          element.appendChild(docLink);\n",
              "        }\n",
              "      </script>\n",
              "    </div>\n",
              "  </div>\n",
              "  "
            ]
          },
          "metadata": {},
          "execution_count": 82
        }
      ]
    },
    {
      "cell_type": "code",
      "source": [
        "df.dtypes"
      ],
      "metadata": {
        "colab": {
          "base_uri": "https://localhost:8080/"
        },
        "id": "NuOBmc6_3RrV",
        "outputId": "6dc43d04-702e-4e01-deec-66d260e33e35"
      },
      "execution_count": null,
      "outputs": [
        {
          "output_type": "execute_result",
          "data": {
            "text/plain": [
              "Chirps/Second         float64\n",
              "Ground Temperature    float64\n",
              "dtype: object"
            ]
          },
          "metadata": {},
          "execution_count": 83
        }
      ]
    },
    {
      "cell_type": "markdown",
      "source": [
        "### **Outlier**"
      ],
      "metadata": {
        "id": "3e7pnwN9EmhB"
      }
    },
    {
      "cell_type": "code",
      "source": [
        "#IQR = 75% - 25% \n",
        "\n",
        "# Chirps/Second:\n",
        "\n",
        "Q3, Q1 = np.percentile(df['Chirps/Second'], [75,25])\n",
        "\n",
        "IQR_Chirps = Q3 - Q1\n",
        "\n",
        "IQR_Chirps = IQR_Chirps.round(2)\n",
        "\n",
        "Upper_Limit = Q3 + 1.5 * IQR_Chirps\n",
        "Lower_Limit = Q3 - 1.5 * IQR_Chirps\n",
        "\n",
        "print('Chirps/Second:')\n",
        "print('UL :', Upper_Limit.round(2), '\\nLL :', Lower_Limit.round(2), '\\n')\n",
        "\n",
        "x = np.where( (df['Chirps/Second'] > Upper_Limit) | (df['Chirps/Second'] < Lower_Limit) )\n",
        "print('Outlier index:', x)"
      ],
      "metadata": {
        "colab": {
          "base_uri": "https://localhost:8080/"
        },
        "id": "cAmoSex00dEp",
        "outputId": "e502edd3-8b31-4889-fc14-8b1da8ea3321"
      },
      "execution_count": null,
      "outputs": [
        {
          "output_type": "stream",
          "name": "stdout",
          "text": [
            "Chirps/Second:\n",
            "UL : 19.7 \n",
            "LL : 14.6 \n",
            "\n",
            "Outlier index: (array([ 0,  2, 14]),)\n"
          ]
        }
      ]
    },
    {
      "cell_type": "code",
      "source": [
        "# df = df.drop(index = [0,2,14], axis = 0)\n",
        "\n",
        "# multiindex_df.drop('weight', level=1, axis=0, inplace=True)\n",
        "# multiindex_df\n",
        "\n",
        "# df.shape"
      ],
      "metadata": {
        "id": "nTA5QCKdCwuV"
      },
      "execution_count": null,
      "outputs": []
    },
    {
      "cell_type": "code",
      "source": [
        "#IQR = 75% - 25% \n",
        "\n",
        "# Ground Temperature\n",
        "\n",
        "Q3, Q1 = np.percentile(df['Ground Temperature'], [75,25])\n",
        "\n",
        "IQR_GT = Q3 - Q1\n",
        "\n",
        "IQR_GT = IQR_GT.round(2)\n",
        "\n",
        "Upper_Limit = Q3 + 1.5 * IQR_GT\n",
        "Lower_Limit = Q3 - 1.5 * IQR_GT\n",
        "\n",
        "print('Ground Temperature:')\n",
        "print('UL: ', Upper_Limit.round(2), '\\nLL: ', Lower_Limit)"
      ],
      "metadata": {
        "colab": {
          "base_uri": "https://localhost:8080/"
        },
        "id": "Ha7weyi-H_6J",
        "outputId": "a81d3f48-670b-42a1-b084-799140770285"
      },
      "execution_count": null,
      "outputs": [
        {
          "output_type": "stream",
          "name": "stdout",
          "text": [
            "Ground Temperature:\n",
            "UL:  98.4 \n",
            "LL:  68.4\n"
          ]
        }
      ]
    },
    {
      "cell_type": "code",
      "source": [
        "# df = df.reset_index(drop = True)\n",
        "# df"
      ],
      "metadata": {
        "id": "t4b2vvRDI21t"
      },
      "execution_count": null,
      "outputs": []
    },
    {
      "cell_type": "markdown",
      "metadata": {
        "id": "iYhVHyiKvZdN"
      },
      "source": [
        "### Tasks\n",
        "\n",
        "1. Find the linear regression equation for this data.\n",
        "2. Chart the original data and the equation on the chart.\n",
        "3. Find the equation's $R^2$ score (use the `.score` method) to determine whether the\n",
        "equation is a good fit for this data. (0.8 and greater is considered a strong correlation.)\n",
        "4. Extrapolate data:  If the ground temperature reached 95, then at what approximate rate would you expect the crickets to be chirping?\n",
        "5. Interpolate data:  With a listening device, you discovered that on a particular morning the crickets were chirping at a rate of 18 chirps per second.  What was the approximate ground temperature that morning? "
      ]
    },
    {
      "cell_type": "markdown",
      "source": [
        "### **Finding Correlation:**"
      ],
      "metadata": {
        "id": "tN-GNFRUaIdP"
      }
    },
    {
      "cell_type": "code",
      "source": [
        "df.plot(x='Ground Temperature', y='Chirps/Second', style = 'ro')\n",
        "plt.title('Ground Temperature vs Chirps/Second')\n",
        "plt.xlabel('Ground Temperature')\n",
        "plt.ylabel('Chirps/Second')\n",
        "plt.show()"
      ],
      "metadata": {
        "colab": {
          "base_uri": "https://localhost:8080/",
          "height": 295
        },
        "id": "yFajkSgGJJ0R",
        "outputId": "e5546254-dbdd-4e24-c0fc-0ffed8eafa02"
      },
      "execution_count": null,
      "outputs": [
        {
          "output_type": "display_data",
          "data": {
            "text/plain": [
              "<Figure size 432x288 with 1 Axes>"
            ],
            "image/png": "[encoded data removed]"
          },
          "metadata": {
            "needs_background": "light"
          }
        }
      ]
    },
    {
      "cell_type": "code",
      "source": [
        "df.corr()"
      ],
      "metadata": {
        "colab": {
          "base_uri": "https://localhost:8080/",
          "height": 112
        },
        "id": "UXMpSlFwJxca",
        "outputId": "18985028-3857-4de3-9015-ae7d7ee79d2d"
      },
      "execution_count": null,
      "outputs": [
        {
          "output_type": "execute_result",
          "data": {
            "text/plain": [
              "                    Chirps/Second  Ground Temperature\n",
              "Chirps/Second            1.000000            0.832042\n",
              "Ground Temperature       0.832042            1.000000"
            ],
            "text/html": [
              "\n",
              "  <div id=\"df-6131f19a-c397-43ed-9407-480864ee9e48\">\n",
              "    <div class=\"colab-df-container\">\n",
              "      <div>\n",
              "<style scoped>\n",
              "    .dataframe tbody tr th:only-of-type {\n",
              "        vertical-align: middle;\n",
              "    }\n",
              "\n",
              "    .dataframe tbody tr th {\n",
              "        vertical-align: top;\n",
              "    }\n",
              "\n",
              "    .dataframe thead th {\n",
              "        text-align: right;\n",
              "    }\n",
              "</style>\n",
              "<table border=\"1\" class=\"dataframe\">\n",
              "  <thead>\n",
              "    <tr style=\"text-align: right;\">\n",
              "      <th></th>\n",
              "      <th>Chirps/Second</th>\n",
              "      <th>Ground Temperature</th>\n",
              "    </tr>\n",
              "  </thead>\n",
              "  <tbody>\n",
              "    <tr>\n",
              "      <th>Chirps/Second</th>\n",
              "      <td>1.000000</td>\n",
              "      <td>0.832042</td>\n",
              "    </tr>\n",
              "    <tr>\n",
              "      <th>Ground Temperature</th>\n",
              "      <td>0.832042</td>\n",
              "      <td>1.000000</td>\n",
              "    </tr>\n",
              "  </tbody>\n",
              "</table>\n",
              "</div>\n",
              "      <button class=\"colab-df-convert\" onclick=\"convertToInteractive('df-6131f19a-c397-43ed-9407-480864ee9e48')\"\n",
              "              title=\"Convert this dataframe to an interactive table.\"\n",
              "              style=\"display:none;\">\n",
              "        \n",
              "  <svg xmlns=\"http://www.w3.org/2000/svg\" height=\"24px\"viewBox=\"0 0 24 24\"\n",
              "       width=\"24px\">\n",
              "    <path d=\"M0 0h24v24H0V0z\" fill=\"none\"/>\n",
              "    <path d=\"M18.56 5.44l.94 2.06.94-2.06 2.06-.94-2.06-.94-.94-2.06-.94 2.06-2.06.94zm-11 1L8.5 8.5l.94-2.06 2.06-.94-2.06-.94L8.5 2.5l-.94 2.06-2.06.94zm10 10l.94 2.06.94-2.06 2.06-.94-2.06-.94-.94-2.06-.94 2.06-2.06.94z\"/><path d=\"M17.41 7.96l-1.37-1.37c-.4-.4-.92-.59-1.43-.59-.52 0-1.04.2-1.43.59L10.3 9.45l-7.72 7.72c-.78.78-.78 2.05 0 2.83L4 21.41c.39.39.9.59 1.41.59.51 0 1.02-.2 1.41-.59l7.78-7.78 2.81-2.81c.8-.78.8-2.07 0-2.86zM5.41 20L4 18.59l7.72-7.72 1.47 1.35L5.41 20z\"/>\n",
              "  </svg>\n",
              "      </button>\n",
              "      \n",
              "  <style>\n",
              "    .colab-df-container {\n",
              "      display:flex;\n",
              "      flex-wrap:wrap;\n",
              "      gap: 12px;\n",
              "    }\n",
              "\n",
              "    .colab-df-convert {\n",
              "      background-color: #E8F0FE;\n",
              "      border: none;\n",
              "      border-radius: 50%;\n",
              "      cursor: pointer;\n",
              "      display: none;\n",
              "      fill: #1967D2;\n",
              "      height: 32px;\n",
              "      padding: 0 0 0 0;\n",
              "      width: 32px;\n",
              "    }\n",
              "\n",
              "    .colab-df-convert:hover {\n",
              "      background-color: #E2EBFA;\n",
              "      box-shadow: 0px 1px 2px rgba(60, 64, 67, 0.3), 0px 1px 3px 1px rgba(60, 64, 67, 0.15);\n",
              "      fill: #174EA6;\n",
              "    }\n",
              "\n",
              "    [theme=dark] .colab-df-convert {\n",
              "      background-color: #3B4455;\n",
              "      fill: #D2E3FC;\n",
              "    }\n",
              "\n",
              "    [theme=dark] .colab-df-convert:hover {\n",
              "      background-color: #434B5C;\n",
              "      box-shadow: 0px 1px 3px 1px rgba(0, 0, 0, 0.15);\n",
              "      filter: drop-shadow(0px 1px 2px rgba(0, 0, 0, 0.3));\n",
              "      fill: #FFFFFF;\n",
              "    }\n",
              "  </style>\n",
              "\n",
              "      <script>\n",
              "        const buttonEl =\n",
              "          document.querySelector('#df-6131f19a-c397-43ed-9407-480864ee9e48 button.colab-df-convert');\n",
              "        buttonEl.style.display =\n",
              "          google.colab.kernel.accessAllowed ? 'block' : 'none';\n",
              "\n",
              "        async function convertToInteractive(key) {\n",
              "          const element = document.querySelector('#df-6131f19a-c397-43ed-9407-480864ee9e48');\n",
              "          const dataTable =\n",
              "            await google.colab.kernel.invokeFunction('convertToInteractive',\n",
              "                                                     [key], {});\n",
              "          if (!dataTable) return;\n",
              "\n",
              "          const docLinkHtml = 'Like what you see? Visit the ' +\n",
              "            '<a target=\"_blank\" href=https://colab.research.google.com/notebooks/data_table.ipynb>data table notebook</a>'\n",
              "            + ' to learn more about interactive tables.';\n",
              "          element.innerHTML = '';\n",
              "          dataTable['output_type'] = 'display_data';\n",
              "          await google.colab.output.renderOutput(dataTable, element);\n",
              "          const docLink = document.createElement('div');\n",
              "          docLink.innerHTML = docLinkHtml;\n",
              "          element.appendChild(docLink);\n",
              "        }\n",
              "      </script>\n",
              "    </div>\n",
              "  </div>\n",
              "  "
            ]
          },
          "metadata": {},
          "execution_count": 89
        }
      ]
    },
    {
      "cell_type": "markdown",
      "source": [
        "**There is a strong linear relationship between Ground Temperature and Chirps/Second. So, we can apply Linear Regression.**"
      ],
      "metadata": {
        "id": "czAs738JKViE"
      }
    },
    {
      "cell_type": "markdown",
      "source": [
        "### **Data Preparation**"
      ],
      "metadata": {
        "id": "-S5xJx49LImj"
      }
    },
    {
      "cell_type": "code",
      "source": [
        "X = df.iloc[:, -1].values \n",
        "y = df.iloc[:, 0].values # target as arrays\n",
        "\n",
        "from sklearn.model_selection import train_test_split #import the required function\n",
        "X_train, X_test, y_train, y_test = train_test_split(X, y, test_size=0.33)"
      ],
      "metadata": {
        "id": "CDzogI70KoaD"
      },
      "execution_count": null,
      "outputs": []
    },
    {
      "cell_type": "code",
      "source": [
        "X_train, X_test"
      ],
      "metadata": {
        "colab": {
          "base_uri": "https://localhost:8080/"
        },
        "id": "4xxfiTtcLpOl",
        "outputId": "37b61379-f33a-4064-ddef-04db2b21010e"
      },
      "execution_count": null,
      "outputs": [
        {
          "output_type": "execute_result",
          "data": {
            "text/plain": [
              "(array([82.6, 80.6, 83.3, 69.7, 80.6, 88.6, 79.6, 76.3, 83.5, 84.3]),\n",
              " array([71.6, 75.2, 93.3, 71.6, 69.4]))"
            ]
          },
          "metadata": {},
          "execution_count": 91
        }
      ]
    },
    {
      "cell_type": "code",
      "source": [
        "X_train.shape, X_test.shape"
      ],
      "metadata": {
        "colab": {
          "base_uri": "https://localhost:8080/"
        },
        "id": "KbGY6LgVNemW",
        "outputId": "20e6637a-c772-4025-8d6e-c33eb3fc517d"
      },
      "execution_count": null,
      "outputs": [
        {
          "output_type": "execute_result",
          "data": {
            "text/plain": [
              "((10,), (5,))"
            ]
          },
          "metadata": {},
          "execution_count": 92
        }
      ]
    },
    {
      "cell_type": "code",
      "source": [
        "X_train.reshape(-1,1)\n",
        "X_test.reshape(-1,1)\n",
        "y_train.reshape(-1,1)\n",
        "y_test.reshape(-1,1)"
      ],
      "metadata": {
        "colab": {
          "base_uri": "https://localhost:8080/"
        },
        "id": "3r0wufWWNjak",
        "outputId": "72f728f2-5ddb-4326-c2d8-cf39a202e1fa"
      },
      "execution_count": null,
      "outputs": [
        {
          "output_type": "execute_result",
          "data": {
            "text/plain": [
              "array([[16. ],\n",
              "       [15.5],\n",
              "       [19.8],\n",
              "       [15.7],\n",
              "       [15.4]])"
            ]
          },
          "metadata": {},
          "execution_count": 93
        }
      ]
    },
    {
      "cell_type": "markdown",
      "source": [
        "### **Modelling**"
      ],
      "metadata": {
        "id": "9sDGYHFIMDyF"
      }
    },
    {
      "cell_type": "code",
      "source": [
        "from sklearn.linear_model import LinearRegression\n",
        "\n",
        "model = LinearRegression()\n",
        "\n",
        "model.fit(X_train.reshape(-1,1), y_train.reshape(-1,1))"
      ],
      "metadata": {
        "colab": {
          "base_uri": "https://localhost:8080/"
        },
        "id": "Nh7ScGUOL3wz",
        "outputId": "7fe35440-ad0c-4484-81fd-d18928d6d79a"
      },
      "execution_count": null,
      "outputs": [
        {
          "output_type": "execute_result",
          "data": {
            "text/plain": [
              "LinearRegression()"
            ]
          },
          "metadata": {},
          "execution_count": 94
        }
      ]
    },
    {
      "cell_type": "code",
      "source": [
        "c = (model.intercept_[0]).round(4) # c"
      ],
      "metadata": {
        "id": "hX-s5nBiOGhz"
      },
      "execution_count": null,
      "outputs": []
    },
    {
      "cell_type": "code",
      "source": [
        "m = (model.coef_[0][0]).round(4) # m"
      ],
      "metadata": {
        "id": "i0a_AwXPOLe6"
      },
      "execution_count": null,
      "outputs": []
    },
    {
      "cell_type": "markdown",
      "source": [
        "1. **Find the linear regression equation for this data.**\n",
        "\n",
        "---\n",
        "\n",
        "\n",
        "\n",
        "y = mx + c\n",
        "\n",
        "\n",
        "---\n",
        "\n",
        "\n",
        "y (Target) - Chirps/Second\n",
        "\n",
        "x (Feature) - Ground Temperature"
      ],
      "metadata": {
        "id": "mXqCVshwObRP"
      }
    },
    {
      "cell_type": "code",
      "source": [
        "print('Linear Regression equation, y = {} * x + ({})'.format(m,c))"
      ],
      "metadata": {
        "colab": {
          "base_uri": "https://localhost:8080/"
        },
        "id": "Y8LJGFq3gmRc",
        "outputId": "cc1f8f92-289c-4f48-800a-399f1df86ec4"
      },
      "execution_count": null,
      "outputs": [
        {
          "output_type": "stream",
          "name": "stdout",
          "text": [
            "Linear Regression equation, y = 0.2861 * x + (-6.5359)\n"
          ]
        }
      ]
    },
    {
      "cell_type": "markdown",
      "source": [
        "2. **Chart the original data and the equation on the chart.**"
      ],
      "metadata": {
        "id": "9-M2VrtxfZri"
      }
    },
    {
      "cell_type": "code",
      "source": [
        "y_pred_whole = model.predict(X.reshape(-1,1))"
      ],
      "metadata": {
        "id": "W58lD24bS0o9"
      },
      "execution_count": null,
      "outputs": []
    },
    {
      "cell_type": "code",
      "source": [
        "plt.scatter(X, y, color = 'r')\n",
        "plt.plot(X, y_pred_whole, label = 'yPreds = {}*(x) + ({})'.format(m,c))\n",
        "plt.xlabel('Ground Temperature, F')\n",
        "plt.ylabel('Chirps/Second') # predicted whole data includes both test and train\n",
        "plt.legend(loc = 'center')"
      ],
      "metadata": {
        "id": "M79HAXQ4fjDG",
        "colab": {
          "base_uri": "https://localhost:8080/",
          "height": 296
        },
        "outputId": "55c85e78-6f4d-4aab-89c9-79c2e52129c1"
      },
      "execution_count": null,
      "outputs": [
        {
          "output_type": "execute_result",
          "data": {
            "text/plain": [
              "<matplotlib.legend.Legend at 0x7f796759e050>"
            ]
          },
          "metadata": {},
          "execution_count": 99
        },
        {
          "output_type": "display_data",
          "data": {
            "text/plain": [
              "<Figure size 432x288 with 1 Axes>"
            ],
            "image/png": "[encoded data removed]"
          },
          "metadata": {
            "needs_background": "light"
          }
        }
      ]
    },
    {
      "cell_type": "markdown",
      "source": [
        "3. **Evaluation Metric:**"
      ],
      "metadata": {
        "id": "5SYlM0i0Vrof"
      }
    },
    {
      "cell_type": "code",
      "source": [
        "y_pred = model.predict(X_test.reshape(-1,1))"
      ],
      "metadata": {
        "id": "NXJL2coGP-gf"
      },
      "execution_count": null,
      "outputs": []
    },
    {
      "cell_type": "code",
      "source": [
        "y_pred"
      ],
      "metadata": {
        "colab": {
          "base_uri": "https://localhost:8080/"
        },
        "id": "4nukVo_VQWST",
        "outputId": "09b87496-bddf-4ffc-a70f-70437f512f1e"
      },
      "execution_count": null,
      "outputs": [
        {
          "output_type": "execute_result",
          "data": {
            "text/plain": [
              "array([[13.94668533],\n",
              "       [14.97653848],\n",
              "       [20.15441126],\n",
              "       [13.94668533],\n",
              "       [13.31733062]])"
            ]
          },
          "metadata": {},
          "execution_count": 101
        }
      ]
    },
    {
      "cell_type": "code",
      "source": [
        "from sklearn import metrics \n",
        "print('R2- SCORE:', metrics.r2_score(y_test,y_pred))"
      ],
      "metadata": {
        "colab": {
          "base_uri": "https://localhost:8080/"
        },
        "id": "wOK9RjUhUDEh",
        "outputId": "d690b6ee-6b42-447c-8893-dc60033adde8"
      },
      "execution_count": null,
      "outputs": [
        {
          "output_type": "stream",
          "name": "stdout",
          "text": [
            "R2- SCORE: 0.14016696244129967\n"
          ]
        }
      ]
    },
    {
      "cell_type": "markdown",
      "source": [
        "With **R2 - Score > 0 (baseline),** there is a **good correlation between Ground Temperature (Feature) and Chirpping per Second (Target).**\n",
        "\n",
        "\n",
        "\n",
        "***But, R2 < 0.8, the strong correlation couldn't be established.***"
      ],
      "metadata": {
        "id": "dAV9PtqVWTNl"
      }
    },
    {
      "cell_type": "markdown",
      "source": [
        "4. **Extrapolate:**"
      ],
      "metadata": {
        "id": "qGlHMytUXG5B"
      }
    },
    {
      "cell_type": "code",
      "source": [
        "# y = mx + c\n",
        "\n",
        "x = float(input(\"Enter Ground Temperature: \")) # Ground Temperature\n",
        "\n",
        "model.intercept_ #c\n",
        "model.coef_ # m\n",
        "\n",
        "# c = 6.77, m = 0.12\n",
        "\n",
        "# Chirps/Second = (0.12 * Ground Temperature) + 6.77\n",
        "\n",
        "y = model.predict([[x]])\n",
        "\n",
        "print('At The Ground Temperature', x, 'F, the ground cricket makes', float(y.round(1)), 'Chirps/Second.')"
      ],
      "metadata": {
        "colab": {
          "base_uri": "https://localhost:8080/"
        },
        "id": "2KQIp3KnQ56x",
        "outputId": "ea3e869e-4eaf-4244-b014-12e2e0f06552"
      },
      "execution_count": null,
      "outputs": [
        {
          "output_type": "stream",
          "name": "stdout",
          "text": [
            "Enter Ground Temperature: 95\n",
            "At The Ground Temperature 95.0 F, the ground cricket makes 20.6 Chirps/Second.\n"
          ]
        }
      ]
    },
    {
      "cell_type": "markdown",
      "source": [
        "5. **Interpolate**"
      ],
      "metadata": {
        "id": "_0R1jqM6akEy"
      }
    },
    {
      "cell_type": "code",
      "source": [
        "y = float(input(\"Chirps/Second: \"))\n",
        "\n",
        "x = (y - model.intercept_) / model.coef_\n",
        "\n",
        "print('For the Crickets, to make', y, 'Chirps/Second, the Ground Temperature will be around', float(x.round(1)), 'F.')"
      ],
      "metadata": {
        "colab": {
          "base_uri": "https://localhost:8080/"
        },
        "id": "rVuIO3oraxEr",
        "outputId": "e7eee099-a70f-4840-ae37-5b54d91853ba"
      },
      "execution_count": null,
      "outputs": [
        {
          "output_type": "stream",
          "name": "stdout",
          "text": [
            "Chirps/Second: 16\n",
            "For the Crickets, to make 16.0 Chirps/Second, the Ground Temperature will be around 78.8 F.\n"
          ]
        }
      ]
    },
    {
      "cell_type": "markdown",
      "metadata": {
        "id": "bHD8oM8xvZdO"
      },
      "source": [
        "# Assignment6"
      ]
    },
    {
      "cell_type": "markdown",
      "metadata": {
        "id": "EQ2d5l1avZdO"
      },
      "source": [
        "## Brain vs. Body Weight\n",
        "\n",
        "In the file `brain_body.txt`, the average brain and body weight for a number of mammal species are recorded. Load this data into a Pandas data frame.\n",
        "\n",
        "### Tasks\n",
        "\n",
        "1. Find the linear regression equation for this data for brain weight to body weight.\n",
        "2. Chart the original data and the equation on the chart.\n",
        "3. Find the equation's $R^2$ score (use the `.score` method) to determine whether the\n",
        "equation is a good fit for this data. (0.8 and greater is considered a strong correlation.)"
      ]
    },
    {
      "cell_type": "code",
      "execution_count": null,
      "metadata": {
        "id": "ymji3fTsvZdP",
        "colab": {
          "base_uri": "https://localhost:8080/",
          "height": 269
        },
        "outputId": "9cc71531-bfbc-46d3-ac86-1238628d0489"
      },
      "outputs": [
        {
          "output_type": "execute_result",
          "data": {
            "text/plain": [
              "   Body(Kg)  Brain(g)\n",
              "0     3.385      44.5\n",
              "1     0.480      15.5\n",
              "2     1.350       8.1\n",
              "3   465.000     423.0\n",
              "4    36.330     119.5\n",
              "5    27.660     115.0\n",
              "6    14.830      98.2"
            ],
            "text/html": [
              "\n",
              "  <div id=\"df-9972c7cb-15ab-494a-b83d-ab86d09f1ce6\">\n",
              "    <div class=\"colab-df-container\">\n",
              "      <div>\n",
              "<style scoped>\n",
              "    .dataframe tbody tr th:only-of-type {\n",
              "        vertical-align: middle;\n",
              "    }\n",
              "\n",
              "    .dataframe tbody tr th {\n",
              "        vertical-align: top;\n",
              "    }\n",
              "\n",
              "    .dataframe thead th {\n",
              "        text-align: right;\n",
              "    }\n",
              "</style>\n",
              "<table border=\"1\" class=\"dataframe\">\n",
              "  <thead>\n",
              "    <tr style=\"text-align: right;\">\n",
              "      <th></th>\n",
              "      <th>Body(Kg)</th>\n",
              "      <th>Brain(g)</th>\n",
              "    </tr>\n",
              "  </thead>\n",
              "  <tbody>\n",
              "    <tr>\n",
              "      <th>0</th>\n",
              "      <td>3.385</td>\n",
              "      <td>44.5</td>\n",
              "    </tr>\n",
              "    <tr>\n",
              "      <th>1</th>\n",
              "      <td>0.480</td>\n",
              "      <td>15.5</td>\n",
              "    </tr>\n",
              "    <tr>\n",
              "      <th>2</th>\n",
              "      <td>1.350</td>\n",
              "      <td>8.1</td>\n",
              "    </tr>\n",
              "    <tr>\n",
              "      <th>3</th>\n",
              "      <td>465.000</td>\n",
              "      <td>423.0</td>\n",
              "    </tr>\n",
              "    <tr>\n",
              "      <th>4</th>\n",
              "      <td>36.330</td>\n",
              "      <td>119.5</td>\n",
              "    </tr>\n",
              "    <tr>\n",
              "      <th>5</th>\n",
              "      <td>27.660</td>\n",
              "      <td>115.0</td>\n",
              "    </tr>\n",
              "    <tr>\n",
              "      <th>6</th>\n",
              "      <td>14.830</td>\n",
              "      <td>98.2</td>\n",
              "    </tr>\n",
              "  </tbody>\n",
              "</table>\n",
              "</div>\n",
              "      <button class=\"colab-df-convert\" onclick=\"convertToInteractive('df-9972c7cb-15ab-494a-b83d-ab86d09f1ce6')\"\n",
              "              title=\"Convert this dataframe to an interactive table.\"\n",
              "              style=\"display:none;\">\n",
              "        \n",
              "  <svg xmlns=\"http://www.w3.org/2000/svg\" height=\"24px\"viewBox=\"0 0 24 24\"\n",
              "       width=\"24px\">\n",
              "    <path d=\"M0 0h24v24H0V0z\" fill=\"none\"/>\n",
              "    <path d=\"M18.56 5.44l.94 2.06.94-2.06 2.06-.94-2.06-.94-.94-2.06-.94 2.06-2.06.94zm-11 1L8.5 8.5l.94-2.06 2.06-.94-2.06-.94L8.5 2.5l-.94 2.06-2.06.94zm10 10l.94 2.06.94-2.06 2.06-.94-2.06-.94-.94-2.06-.94 2.06-2.06.94z\"/><path d=\"M17.41 7.96l-1.37-1.37c-.4-.4-.92-.59-1.43-.59-.52 0-1.04.2-1.43.59L10.3 9.45l-7.72 7.72c-.78.78-.78 2.05 0 2.83L4 21.41c.39.39.9.59 1.41.59.51 0 1.02-.2 1.41-.59l7.78-7.78 2.81-2.81c.8-.78.8-2.07 0-2.86zM5.41 20L4 18.59l7.72-7.72 1.47 1.35L5.41 20z\"/>\n",
              "  </svg>\n",
              "      </button>\n",
              "      \n",
              "  <style>\n",
              "    .colab-df-container {\n",
              "      display:flex;\n",
              "      flex-wrap:wrap;\n",
              "      gap: 12px;\n",
              "    }\n",
              "\n",
              "    .colab-df-convert {\n",
              "      background-color: #E8F0FE;\n",
              "      border: none;\n",
              "      border-radius: 50%;\n",
              "      cursor: pointer;\n",
              "      display: none;\n",
              "      fill: #1967D2;\n",
              "      height: 32px;\n",
              "      padding: 0 0 0 0;\n",
              "      width: 32px;\n",
              "    }\n",
              "\n",
              "    .colab-df-convert:hover {\n",
              "      background-color: #E2EBFA;\n",
              "      box-shadow: 0px 1px 2px rgba(60, 64, 67, 0.3), 0px 1px 3px 1px rgba(60, 64, 67, 0.15);\n",
              "      fill: #174EA6;\n",
              "    }\n",
              "\n",
              "    [theme=dark] .colab-df-convert {\n",
              "      background-color: #3B4455;\n",
              "      fill: #D2E3FC;\n",
              "    }\n",
              "\n",
              "    [theme=dark] .colab-df-convert:hover {\n",
              "      background-color: #434B5C;\n",
              "      box-shadow: 0px 1px 3px 1px rgba(0, 0, 0, 0.15);\n",
              "      filter: drop-shadow(0px 1px 2px rgba(0, 0, 0, 0.3));\n",
              "      fill: #FFFFFF;\n",
              "    }\n",
              "  </style>\n",
              "\n",
              "      <script>\n",
              "        const buttonEl =\n",
              "          document.querySelector('#df-9972c7cb-15ab-494a-b83d-ab86d09f1ce6 button.colab-df-convert');\n",
              "        buttonEl.style.display =\n",
              "          google.colab.kernel.accessAllowed ? 'block' : 'none';\n",
              "\n",
              "        async function convertToInteractive(key) {\n",
              "          const element = document.querySelector('#df-9972c7cb-15ab-494a-b83d-ab86d09f1ce6');\n",
              "          const dataTable =\n",
              "            await google.colab.kernel.invokeFunction('convertToInteractive',\n",
              "                                                     [key], {});\n",
              "          if (!dataTable) return;\n",
              "\n",
              "          const docLinkHtml = 'Like what you see? Visit the ' +\n",
              "            '<a target=\"_blank\" href=https://colab.research.google.com/notebooks/data_table.ipynb>data table notebook</a>'\n",
              "            + ' to learn more about interactive tables.';\n",
              "          element.innerHTML = '';\n",
              "          dataTable['output_type'] = 'display_data';\n",
              "          await google.colab.output.renderOutput(dataTable, element);\n",
              "          const docLink = document.createElement('div');\n",
              "          docLink.innerHTML = docLinkHtml;\n",
              "          element.appendChild(docLink);\n",
              "        }\n",
              "      </script>\n",
              "    </div>\n",
              "  </div>\n",
              "  "
            ]
          },
          "metadata": {},
          "execution_count": 105
        }
      ],
      "source": [
        "df = pd.read_fwf(\"brain_body.txt\")\n",
        "\n",
        "df.head(7)"
      ]
    },
    {
      "cell_type": "code",
      "source": [
        "df.info()"
      ],
      "metadata": {
        "id": "cymaJjhhNnZX",
        "colab": {
          "base_uri": "https://localhost:8080/"
        },
        "outputId": "92ea581f-bbfa-4009-b22c-675b030d5238"
      },
      "execution_count": null,
      "outputs": [
        {
          "output_type": "stream",
          "name": "stdout",
          "text": [
            "<class 'pandas.core.frame.DataFrame'>\n",
            "RangeIndex: 62 entries, 0 to 61\n",
            "Data columns (total 2 columns):\n",
            " #   Column    Non-Null Count  Dtype  \n",
            "---  ------    --------------  -----  \n",
            " 0   Body(Kg)  62 non-null     float64\n",
            " 1   Brain(g)  62 non-null     float64\n",
            "dtypes: float64(2)\n",
            "memory usage: 1.1 KB\n"
          ]
        }
      ]
    },
    {
      "cell_type": "markdown",
      "source": [
        "### **Outlier Detection & Elimination**"
      ],
      "metadata": {
        "id": "4FA4H4COJ9yj"
      }
    },
    {
      "cell_type": "code",
      "source": [
        "# IQR_Body\n",
        "\n",
        "Q3, Q1 = (np.percentile(df['Body(Kg)'], [75,25])).round(2)\n",
        "print('Q3: ', Q3, 'Q1: ', Q1)\n",
        "\n",
        "IQR_Body = Q3 - Q1\n",
        "print('IQR_Body: ', IQR_Body)\n",
        "\n",
        "UL = (Q3 + 1.5 * IQR_Body).round(2)\n",
        "LL = (Q1 - 1.5 * IQR_Body).round(2)\n",
        "\n",
        "print('UL: ', UL, 'LL: ', LL)"
      ],
      "metadata": {
        "colab": {
          "base_uri": "https://localhost:8080/"
        },
        "id": "Fb22B2FwIGel",
        "outputId": "14ff1396-661f-476a-a6e2-4299e227acdf"
      },
      "execution_count": null,
      "outputs": [
        {
          "output_type": "stream",
          "name": "stdout",
          "text": [
            "Q3:  48.2 Q1:  0.6\n",
            "IQR_Body:  47.6\n",
            "UL:  119.6 LL:  -70.8\n"
          ]
        }
      ]
    },
    {
      "cell_type": "code",
      "source": [
        "df.drop(df[df['Body(Kg)'] > UL].index, inplace = True)\n",
        "df.drop(df[df['Body(Kg)'] < LL].index, inplace = True)"
      ],
      "metadata": {
        "id": "yZZI8s38KLHb"
      },
      "execution_count": null,
      "outputs": []
    },
    {
      "cell_type": "code",
      "source": [
        "df.shape"
      ],
      "metadata": {
        "id": "fDIrLxaXSQrD",
        "colab": {
          "base_uri": "https://localhost:8080/"
        },
        "outputId": "42f7f33b-0e81-4ed8-fa12-271741241eb7"
      },
      "execution_count": null,
      "outputs": [
        {
          "output_type": "execute_result",
          "data": {
            "text/plain": [
              "(52, 2)"
            ]
          },
          "metadata": {},
          "execution_count": 109
        }
      ]
    },
    {
      "cell_type": "markdown",
      "source": [
        "### **Finding Correlation**"
      ],
      "metadata": {
        "id": "ODs_I2QnP0i6"
      }
    },
    {
      "cell_type": "code",
      "source": [
        "X = df.iloc[:, 0].values # Feature\n",
        "y = df.iloc[:, 1].values # Target"
      ],
      "metadata": {
        "id": "HD07R2oRRhmD"
      },
      "execution_count": null,
      "outputs": []
    },
    {
      "cell_type": "code",
      "source": [
        "plt.scatter(X, y, color = 'y')\n",
        "plt.xlabel('Body(Kg)')\n",
        "plt.ylabel('Brain(g)')\n",
        "plt.title('Body(Kg) vs Brain(g)')\n",
        "\n",
        "print()"
      ],
      "metadata": {
        "colab": {
          "base_uri": "https://localhost:8080/",
          "height": 312
        },
        "id": "GZrEpIQeQCV8",
        "outputId": "6bd257c7-d694-4a6d-a12c-c055c9cce61a"
      },
      "execution_count": null,
      "outputs": [
        {
          "output_type": "stream",
          "name": "stdout",
          "text": [
            "\n"
          ]
        },
        {
          "output_type": "display_data",
          "data": {
            "text/plain": [
              "<Figure size 432x288 with 1 Axes>"
            ],
            "image/png": "[encoded data removed]"
          },
          "metadata": {
            "needs_background": "light"
          }
        }
      ]
    },
    {
      "cell_type": "code",
      "source": [
        "df.corr()"
      ],
      "metadata": {
        "colab": {
          "base_uri": "https://localhost:8080/",
          "height": 112
        },
        "id": "js_3POhNSTud",
        "outputId": "33c15663-daa4-478b-cc7d-45ba32ab57fd"
      },
      "execution_count": null,
      "outputs": [
        {
          "output_type": "execute_result",
          "data": {
            "text/plain": [
              "          Body(Kg)  Brain(g)\n",
              "Body(Kg)  1.000000  0.582123\n",
              "Brain(g)  0.582123  1.000000"
            ],
            "text/html": [
              "\n",
              "  <div id=\"df-1b9dbc20-2b41-4826-a2cf-6961c6ed1349\">\n",
              "    <div class=\"colab-df-container\">\n",
              "      <div>\n",
              "<style scoped>\n",
              "    .dataframe tbody tr th:only-of-type {\n",
              "        vertical-align: middle;\n",
              "    }\n",
              "\n",
              "    .dataframe tbody tr th {\n",
              "        vertical-align: top;\n",
              "    }\n",
              "\n",
              "    .dataframe thead th {\n",
              "        text-align: right;\n",
              "    }\n",
              "</style>\n",
              "<table border=\"1\" class=\"dataframe\">\n",
              "  <thead>\n",
              "    <tr style=\"text-align: right;\">\n",
              "      <th></th>\n",
              "      <th>Body(Kg)</th>\n",
              "      <th>Brain(g)</th>\n",
              "    </tr>\n",
              "  </thead>\n",
              "  <tbody>\n",
              "    <tr>\n",
              "      <th>Body(Kg)</th>\n",
              "      <td>1.000000</td>\n",
              "      <td>0.582123</td>\n",
              "    </tr>\n",
              "    <tr>\n",
              "      <th>Brain(g)</th>\n",
              "      <td>0.582123</td>\n",
              "      <td>1.000000</td>\n",
              "    </tr>\n",
              "  </tbody>\n",
              "</table>\n",
              "</div>\n",
              "      <button class=\"colab-df-convert\" onclick=\"convertToInteractive('df-1b9dbc20-2b41-4826-a2cf-6961c6ed1349')\"\n",
              "              title=\"Convert this dataframe to an interactive table.\"\n",
              "              style=\"display:none;\">\n",
              "        \n",
              "  <svg xmlns=\"http://www.w3.org/2000/svg\" height=\"24px\"viewBox=\"0 0 24 24\"\n",
              "       width=\"24px\">\n",
              "    <path d=\"M0 0h24v24H0V0z\" fill=\"none\"/>\n",
              "    <path d=\"M18.56 5.44l.94 2.06.94-2.06 2.06-.94-2.06-.94-.94-2.06-.94 2.06-2.06.94zm-11 1L8.5 8.5l.94-2.06 2.06-.94-2.06-.94L8.5 2.5l-.94 2.06-2.06.94zm10 10l.94 2.06.94-2.06 2.06-.94-2.06-.94-.94-2.06-.94 2.06-2.06.94z\"/><path d=\"M17.41 7.96l-1.37-1.37c-.4-.4-.92-.59-1.43-.59-.52 0-1.04.2-1.43.59L10.3 9.45l-7.72 7.72c-.78.78-.78 2.05 0 2.83L4 21.41c.39.39.9.59 1.41.59.51 0 1.02-.2 1.41-.59l7.78-7.78 2.81-2.81c.8-.78.8-2.07 0-2.86zM5.41 20L4 18.59l7.72-7.72 1.47 1.35L5.41 20z\"/>\n",
              "  </svg>\n",
              "      </button>\n",
              "      \n",
              "  <style>\n",
              "    .colab-df-container {\n",
              "      display:flex;\n",
              "      flex-wrap:wrap;\n",
              "      gap: 12px;\n",
              "    }\n",
              "\n",
              "    .colab-df-convert {\n",
              "      background-color: #E8F0FE;\n",
              "      border: none;\n",
              "      border-radius: 50%;\n",
              "      cursor: pointer;\n",
              "      display: none;\n",
              "      fill: #1967D2;\n",
              "      height: 32px;\n",
              "      padding: 0 0 0 0;\n",
              "      width: 32px;\n",
              "    }\n",
              "\n",
              "    .colab-df-convert:hover {\n",
              "      background-color: #E2EBFA;\n",
              "      box-shadow: 0px 1px 2px rgba(60, 64, 67, 0.3), 0px 1px 3px 1px rgba(60, 64, 67, 0.15);\n",
              "      fill: #174EA6;\n",
              "    }\n",
              "\n",
              "    [theme=dark] .colab-df-convert {\n",
              "      background-color: #3B4455;\n",
              "      fill: #D2E3FC;\n",
              "    }\n",
              "\n",
              "    [theme=dark] .colab-df-convert:hover {\n",
              "      background-color: #434B5C;\n",
              "      box-shadow: 0px 1px 3px 1px rgba(0, 0, 0, 0.15);\n",
              "      filter: drop-shadow(0px 1px 2px rgba(0, 0, 0, 0.3));\n",
              "      fill: #FFFFFF;\n",
              "    }\n",
              "  </style>\n",
              "\n",
              "      <script>\n",
              "        const buttonEl =\n",
              "          document.querySelector('#df-1b9dbc20-2b41-4826-a2cf-6961c6ed1349 button.colab-df-convert');\n",
              "        buttonEl.style.display =\n",
              "          google.colab.kernel.accessAllowed ? 'block' : 'none';\n",
              "\n",
              "        async function convertToInteractive(key) {\n",
              "          const element = document.querySelector('#df-1b9dbc20-2b41-4826-a2cf-6961c6ed1349');\n",
              "          const dataTable =\n",
              "            await google.colab.kernel.invokeFunction('convertToInteractive',\n",
              "                                                     [key], {});\n",
              "          if (!dataTable) return;\n",
              "\n",
              "          const docLinkHtml = 'Like what you see? Visit the ' +\n",
              "            '<a target=\"_blank\" href=https://colab.research.google.com/notebooks/data_table.ipynb>data table notebook</a>'\n",
              "            + ' to learn more about interactive tables.';\n",
              "          element.innerHTML = '';\n",
              "          dataTable['output_type'] = 'display_data';\n",
              "          await google.colab.output.renderOutput(dataTable, element);\n",
              "          const docLink = document.createElement('div');\n",
              "          docLink.innerHTML = docLinkHtml;\n",
              "          element.appendChild(docLink);\n",
              "        }\n",
              "      </script>\n",
              "    </div>\n",
              "  </div>\n",
              "  "
            ]
          },
          "metadata": {},
          "execution_count": 112
        }
      ]
    },
    {
      "cell_type": "markdown",
      "source": [
        "**Since, the correlation > 0.2, which stands at 0.58, we can train this using Linear Regression model.**\n",
        "\n",
        "**No transformation required.**"
      ],
      "metadata": {
        "id": "h-Tk74MsSboh"
      }
    },
    {
      "cell_type": "markdown",
      "source": [
        "### **Data Preparation**"
      ],
      "metadata": {
        "id": "VHhWOiYzMtqW"
      }
    },
    {
      "cell_type": "code",
      "source": [
        "X = df.iloc[:, 0].values # Feature\n",
        "y = df.iloc[:, 1].values # Target"
      ],
      "metadata": {
        "id": "FFyUVp6KMxbC"
      },
      "execution_count": null,
      "outputs": []
    },
    {
      "cell_type": "code",
      "source": [
        "from sklearn.model_selection import train_test_split\n",
        "X_train, X_test, y_train, y_test = train_test_split(X, y, test_size = 0.35)"
      ],
      "metadata": {
        "id": "3EnCV86vNYAY"
      },
      "execution_count": null,
      "outputs": []
    },
    {
      "cell_type": "code",
      "source": [
        "#X_train, X_test"
      ],
      "metadata": {
        "id": "lCjQ9fQaN3nf"
      },
      "execution_count": null,
      "outputs": []
    },
    {
      "cell_type": "code",
      "source": [
        "X_train.shape"
      ],
      "metadata": {
        "colab": {
          "base_uri": "https://localhost:8080/"
        },
        "id": "8vb2Z2JTOk8W",
        "outputId": "9052188a-6a42-428a-cf6e-5737d047defe"
      },
      "execution_count": null,
      "outputs": [
        {
          "output_type": "execute_result",
          "data": {
            "text/plain": [
              "(33,)"
            ]
          },
          "metadata": {},
          "execution_count": 116
        }
      ]
    },
    {
      "cell_type": "code",
      "source": [
        "X_train = X_train.reshape(-1,1)\n",
        "X_test = X_test.reshape(-1,1)\n",
        "y_train = y_train.reshape(-1,1)\n",
        "y_test = y_test.reshape(-1,1)\n",
        "\n",
        "X_train.shape"
      ],
      "metadata": {
        "colab": {
          "base_uri": "https://localhost:8080/"
        },
        "id": "CWY4OuLdN9-G",
        "outputId": "1e8b16b6-a460-43c4-d212-1ca99513f148"
      },
      "execution_count": null,
      "outputs": [
        {
          "output_type": "execute_result",
          "data": {
            "text/plain": [
              "(33, 1)"
            ]
          },
          "metadata": {},
          "execution_count": 117
        }
      ]
    },
    {
      "cell_type": "markdown",
      "source": [
        "### **Modeling**"
      ],
      "metadata": {
        "id": "Rz3F7saFO4_n"
      }
    },
    {
      "cell_type": "code",
      "source": [
        "from sklearn.linear_model import LinearRegression\n",
        "\n",
        "linModel = LinearRegression() # Instantiation\n",
        "\n",
        "linModel.fit(X_train, y_train)"
      ],
      "metadata": {
        "colab": {
          "base_uri": "https://localhost:8080/"
        },
        "id": "V1v2rveAO9FH",
        "outputId": "87cc81b8-9c75-41e5-93d4-8c2f563125bf"
      },
      "execution_count": null,
      "outputs": [
        {
          "output_type": "execute_result",
          "data": {
            "text/plain": [
              "LinearRegression()"
            ]
          },
          "metadata": {},
          "execution_count": 118
        }
      ]
    },
    {
      "cell_type": "code",
      "source": [
        "m = (linModel.coef_[0][0]).round(4) # m"
      ],
      "metadata": {
        "id": "sWvpkjmwPpSp"
      },
      "execution_count": null,
      "outputs": []
    },
    {
      "cell_type": "code",
      "source": [
        "c = (linModel.intercept_[0]).round(4) # c"
      ],
      "metadata": {
        "id": "fJ2wNaU2Sx1V"
      },
      "execution_count": null,
      "outputs": []
    },
    {
      "cell_type": "markdown",
      "source": [
        "### Tasks"
      ],
      "metadata": {
        "id": "b53z26IGTBvl"
      }
    },
    {
      "cell_type": "markdown",
      "source": [
        "1. **Find the linear regression equation for this data.**\n",
        "\n",
        "---\n",
        "\n",
        "\n",
        "\n",
        "**y = mx + c**\n",
        "\n",
        "\n",
        "---\n",
        "\n",
        "\n",
        "y (Target) - Brain(g)\n",
        "\n",
        "x (Feature) - Body(Kg)\n"
      ],
      "metadata": {
        "id": "ejVRhMWqS_-W"
      }
    },
    {
      "cell_type": "code",
      "source": [
        "print('Linear Regression equation, y = {} * x + ({})'.format(m, c))"
      ],
      "metadata": {
        "colab": {
          "base_uri": "https://localhost:8080/"
        },
        "id": "jU2eLWticPJH",
        "outputId": "7f14c58a-ccfa-46ba-f72a-6de24bc91dea"
      },
      "execution_count": null,
      "outputs": [
        {
          "output_type": "stream",
          "name": "stdout",
          "text": [
            "Linear Regression equation, y = 1.6032 * x + (23.1814)\n"
          ]
        }
      ]
    },
    {
      "cell_type": "markdown",
      "source": [
        "2. **Chart the original data and the equation on the chart.**"
      ],
      "metadata": {
        "id": "1fdA2POgUEqP"
      }
    },
    {
      "cell_type": "code",
      "source": [
        "y_pred_whole = (linModel.predict(X.reshape(-1,1))).round(1)"
      ],
      "metadata": {
        "id": "SLXyDc_AUiuN"
      },
      "execution_count": null,
      "outputs": []
    },
    {
      "cell_type": "code",
      "source": [
        "plt.scatter(X, y, color = 'r')\n",
        "plt.plot(X, linModel.predict(X.reshape(-1,1)), label = 'y(Pred) = {}*(x) + {}'.format(m,c))\n",
        "plt.xlabel('Body(Kg)')\n",
        "plt.ylabel('Brain(g)')\n",
        "plt.title('Body(Kg) vs Brain(g)')\n",
        "plt.legend(loc = 'center')\n",
        "plt.show()"
      ],
      "metadata": {
        "colab": {
          "base_uri": "https://localhost:8080/",
          "height": 295
        },
        "id": "K2oWbWgWUDvj",
        "outputId": "980a8180-eb84-4abc-f978-9c72d2d6b346"
      },
      "execution_count": null,
      "outputs": [
        {
          "output_type": "display_data",
          "data": {
            "text/plain": [
              "<Figure size 432x288 with 1 Axes>"
            ],
            "image/png": "[encoded data removed]"
          },
          "metadata": {
            "needs_background": "light"
          }
        }
      ]
    },
    {
      "cell_type": "markdown",
      "source": [
        "3. **Evaluation Metrics**"
      ],
      "metadata": {
        "id": "okDwHBg2XEkR"
      }
    },
    {
      "cell_type": "code",
      "source": [
        "y_pred = model.predict(X_test)"
      ],
      "metadata": {
        "id": "l_xKzfXWXdIN"
      },
      "execution_count": null,
      "outputs": []
    },
    {
      "cell_type": "code",
      "source": [
        "from sklearn.metrics import r2_score\n",
        "print('R2-Score: ', metrics.r2_score(y_test, y_pred))"
      ],
      "metadata": {
        "colab": {
          "base_uri": "https://localhost:8080/"
        },
        "id": "AeNWLOAWXV3c",
        "outputId": "ac6b48e8-e377-4a87-8086-eb1131267f33"
      },
      "execution_count": null,
      "outputs": [
        {
          "output_type": "stream",
          "name": "stdout",
          "text": [
            "R2-Score:  -0.16396264274470984\n"
          ]
        }
      ]
    },
    {
      "cell_type": "markdown",
      "source": [
        "**Since, the equation's R2 Score falls below the baseline, it is bad fit. So, the model will fail.**"
      ],
      "metadata": {
        "id": "ZNdrwbOmLRFQ"
      }
    },
    {
      "cell_type": "markdown",
      "metadata": {
        "id": "l4hJVlpMvZdP"
      },
      "source": [
        "# Assignment7"
      ]
    },
    {
      "cell_type": "markdown",
      "metadata": {
        "id": "bdcQerZcvZdQ"
      },
      "source": [
        "## Salary Discrimination\n",
        "\n",
        "The file `salary.txt` contains data for 52 tenure-track professors at a small Midwestern college. This data was used in legal proceedings in the 1980s about discrimination against women in salary.\n",
        "\n",
        "The data in the file, by column:\n",
        "\n",
        "1. Sex. 1 for female, 0 for male.\n",
        "2. Rank. 1 for assistant professor, 2 for associate professor, 3 for full professor.\n",
        "3. Year. Number of years in current rank.\n",
        "4. Degree. Highest degree. 1 for doctorate, 0 for master's.\n",
        "5. YSdeg. Years since highest degree was earned.\n",
        "6. Salary. Salary/year in dollars.\n",
        "\n",
        "### Tasks\n",
        "\n",
        "1. Find the linear regression equation for this data using columns 1-5 to column 6.\n",
        "2. Find the selection of columns with the best $R^2$ score.\n",
        "3. Report whether sex is a factor in salary."
      ]
    },
    {
      "cell_type": "code",
      "execution_count": null,
      "metadata": {
        "id": "GzOlWjv2vZdQ"
      },
      "outputs": [],
      "source": [
        "df = pd.read_fwf(\"salary.txt\", header=None, \n",
        "                 names=[\"Sex\", \"Rank\", \"Year\", \"Degree\", \"YSdeg\", \"Salary\"])"
      ]
    },
    {
      "cell_type": "code",
      "source": [
        "df.head()"
      ],
      "metadata": {
        "colab": {
          "base_uri": "https://localhost:8080/",
          "height": 206
        },
        "id": "A3--WUHSvwSi",
        "outputId": "029e5ddd-00b1-42a9-a39e-7b00d3c07973"
      },
      "execution_count": null,
      "outputs": [
        {
          "output_type": "execute_result",
          "data": {
            "text/plain": [
              "   Sex  Rank  Year  Degree  YSdeg  Salary\n",
              "0    0     3    25       1     35   36350\n",
              "1    0     3    13       1     22   35350\n",
              "2    0     3    10       1     23   28200\n",
              "3    1     3     7       1     27   26775\n",
              "4    0     3    19       0     30   33696"
            ],
            "text/html": [
              "\n",
              "  <div id=\"df-432c28cc-9c7a-4212-8314-6ac57847d05e\">\n",
              "    <div class=\"colab-df-container\">\n",
              "      <div>\n",
              "<style scoped>\n",
              "    .dataframe tbody tr th:only-of-type {\n",
              "        vertical-align: middle;\n",
              "    }\n",
              "\n",
              "    .dataframe tbody tr th {\n",
              "        vertical-align: top;\n",
              "    }\n",
              "\n",
              "    .dataframe thead th {\n",
              "        text-align: right;\n",
              "    }\n",
              "</style>\n",
              "<table border=\"1\" class=\"dataframe\">\n",
              "  <thead>\n",
              "    <tr style=\"text-align: right;\">\n",
              "      <th></th>\n",
              "      <th>Sex</th>\n",
              "      <th>Rank</th>\n",
              "      <th>Year</th>\n",
              "      <th>Degree</th>\n",
              "      <th>YSdeg</th>\n",
              "      <th>Salary</th>\n",
              "    </tr>\n",
              "  </thead>\n",
              "  <tbody>\n",
              "    <tr>\n",
              "      <th>0</th>\n",
              "      <td>0</td>\n",
              "      <td>3</td>\n",
              "      <td>25</td>\n",
              "      <td>1</td>\n",
              "      <td>35</td>\n",
              "      <td>36350</td>\n",
              "    </tr>\n",
              "    <tr>\n",
              "      <th>1</th>\n",
              "      <td>0</td>\n",
              "      <td>3</td>\n",
              "      <td>13</td>\n",
              "      <td>1</td>\n",
              "      <td>22</td>\n",
              "      <td>35350</td>\n",
              "    </tr>\n",
              "    <tr>\n",
              "      <th>2</th>\n",
              "      <td>0</td>\n",
              "      <td>3</td>\n",
              "      <td>10</td>\n",
              "      <td>1</td>\n",
              "      <td>23</td>\n",
              "      <td>28200</td>\n",
              "    </tr>\n",
              "    <tr>\n",
              "      <th>3</th>\n",
              "      <td>1</td>\n",
              "      <td>3</td>\n",
              "      <td>7</td>\n",
              "      <td>1</td>\n",
              "      <td>27</td>\n",
              "      <td>26775</td>\n",
              "    </tr>\n",
              "    <tr>\n",
              "      <th>4</th>\n",
              "      <td>0</td>\n",
              "      <td>3</td>\n",
              "      <td>19</td>\n",
              "      <td>0</td>\n",
              "      <td>30</td>\n",
              "      <td>33696</td>\n",
              "    </tr>\n",
              "  </tbody>\n",
              "</table>\n",
              "</div>\n",
              "      <button class=\"colab-df-convert\" onclick=\"convertToInteractive('df-432c28cc-9c7a-4212-8314-6ac57847d05e')\"\n",
              "              title=\"Convert this dataframe to an interactive table.\"\n",
              "              style=\"display:none;\">\n",
              "        \n",
              "  <svg xmlns=\"http://www.w3.org/2000/svg\" height=\"24px\"viewBox=\"0 0 24 24\"\n",
              "       width=\"24px\">\n",
              "    <path d=\"M0 0h24v24H0V0z\" fill=\"none\"/>\n",
              "    <path d=\"M18.56 5.44l.94 2.06.94-2.06 2.06-.94-2.06-.94-.94-2.06-.94 2.06-2.06.94zm-11 1L8.5 8.5l.94-2.06 2.06-.94-2.06-.94L8.5 2.5l-.94 2.06-2.06.94zm10 10l.94 2.06.94-2.06 2.06-.94-2.06-.94-.94-2.06-.94 2.06-2.06.94z\"/><path d=\"M17.41 7.96l-1.37-1.37c-.4-.4-.92-.59-1.43-.59-.52 0-1.04.2-1.43.59L10.3 9.45l-7.72 7.72c-.78.78-.78 2.05 0 2.83L4 21.41c.39.39.9.59 1.41.59.51 0 1.02-.2 1.41-.59l7.78-7.78 2.81-2.81c.8-.78.8-2.07 0-2.86zM5.41 20L4 18.59l7.72-7.72 1.47 1.35L5.41 20z\"/>\n",
              "  </svg>\n",
              "      </button>\n",
              "      \n",
              "  <style>\n",
              "    .colab-df-container {\n",
              "      display:flex;\n",
              "      flex-wrap:wrap;\n",
              "      gap: 12px;\n",
              "    }\n",
              "\n",
              "    .colab-df-convert {\n",
              "      background-color: #E8F0FE;\n",
              "      border: none;\n",
              "      border-radius: 50%;\n",
              "      cursor: pointer;\n",
              "      display: none;\n",
              "      fill: #1967D2;\n",
              "      height: 32px;\n",
              "      padding: 0 0 0 0;\n",
              "      width: 32px;\n",
              "    }\n",
              "\n",
              "    .colab-df-convert:hover {\n",
              "      background-color: #E2EBFA;\n",
              "      box-shadow: 0px 1px 2px rgba(60, 64, 67, 0.3), 0px 1px 3px 1px rgba(60, 64, 67, 0.15);\n",
              "      fill: #174EA6;\n",
              "    }\n",
              "\n",
              "    [theme=dark] .colab-df-convert {\n",
              "      background-color: #3B4455;\n",
              "      fill: #D2E3FC;\n",
              "    }\n",
              "\n",
              "    [theme=dark] .colab-df-convert:hover {\n",
              "      background-color: #434B5C;\n",
              "      box-shadow: 0px 1px 3px 1px rgba(0, 0, 0, 0.15);\n",
              "      filter: drop-shadow(0px 1px 2px rgba(0, 0, 0, 0.3));\n",
              "      fill: #FFFFFF;\n",
              "    }\n",
              "  </style>\n",
              "\n",
              "      <script>\n",
              "        const buttonEl =\n",
              "          document.querySelector('#df-432c28cc-9c7a-4212-8314-6ac57847d05e button.colab-df-convert');\n",
              "        buttonEl.style.display =\n",
              "          google.colab.kernel.accessAllowed ? 'block' : 'none';\n",
              "\n",
              "        async function convertToInteractive(key) {\n",
              "          const element = document.querySelector('#df-432c28cc-9c7a-4212-8314-6ac57847d05e');\n",
              "          const dataTable =\n",
              "            await google.colab.kernel.invokeFunction('convertToInteractive',\n",
              "                                                     [key], {});\n",
              "          if (!dataTable) return;\n",
              "\n",
              "          const docLinkHtml = 'Like what you see? Visit the ' +\n",
              "            '<a target=\"_blank\" href=https://colab.research.google.com/notebooks/data_table.ipynb>data table notebook</a>'\n",
              "            + ' to learn more about interactive tables.';\n",
              "          element.innerHTML = '';\n",
              "          dataTable['output_type'] = 'display_data';\n",
              "          await google.colab.output.renderOutput(dataTable, element);\n",
              "          const docLink = document.createElement('div');\n",
              "          docLink.innerHTML = docLinkHtml;\n",
              "          element.appendChild(docLink);\n",
              "        }\n",
              "      </script>\n",
              "    </div>\n",
              "  </div>\n",
              "  "
            ]
          },
          "metadata": {},
          "execution_count": 127
        }
      ]
    },
    {
      "cell_type": "code",
      "source": [
        "df.info()"
      ],
      "metadata": {
        "colab": {
          "base_uri": "https://localhost:8080/"
        },
        "id": "MTxbhGGPB8yG",
        "outputId": "8411374d-d532-49e3-c6dd-2b681ea9bbb7"
      },
      "execution_count": null,
      "outputs": [
        {
          "output_type": "stream",
          "name": "stdout",
          "text": [
            "<class 'pandas.core.frame.DataFrame'>\n",
            "RangeIndex: 52 entries, 0 to 51\n",
            "Data columns (total 6 columns):\n",
            " #   Column  Non-Null Count  Dtype\n",
            "---  ------  --------------  -----\n",
            " 0   Sex     52 non-null     int64\n",
            " 1   Rank    52 non-null     int64\n",
            " 2   Year    52 non-null     int64\n",
            " 3   Degree  52 non-null     int64\n",
            " 4   YSdeg   52 non-null     int64\n",
            " 5   Salary  52 non-null     int64\n",
            "dtypes: int64(6)\n",
            "memory usage: 2.6 KB\n"
          ]
        }
      ]
    },
    {
      "cell_type": "code",
      "source": [
        "#df.corr()\n",
        "df.corr().style.background_gradient(cmap ='RdGy')"
      ],
      "metadata": {
        "colab": {
          "base_uri": "https://localhost:8080/",
          "height": 237
        },
        "id": "YzDCi3KxDLmq",
        "outputId": "29c49b83-566d-4e45-dce1-76b94dcf7d28"
      },
      "execution_count": null,
      "outputs": [
        {
          "output_type": "execute_result",
          "data": {
            "text/plain": [
              "<pandas.io.formats.style.Styler at 0x7f79674509d0>"
            ],
            "text/html": [
              "<style type=\"text/css\">\n",
              "#T_5a565_row0_col0, #T_5a565_row1_col1, #T_5a565_row2_col2, #T_5a565_row3_col3, #T_5a565_row4_col4, #T_5a565_row5_col5 {\n",
              "  background-color: #1a1a1a;\n",
              "  color: #f1f1f1;\n",
              "}\n",
              "#T_5a565_row0_col1, #T_5a565_row0_col2, #T_5a565_row0_col5, #T_5a565_row2_col0, #T_5a565_row3_col4, #T_5a565_row4_col3 {\n",
              "  background-color: #67001f;\n",
              "  color: #f1f1f1;\n",
              "}\n",
              "#T_5a565_row0_col3 {\n",
              "  background-color: #fbceb7;\n",
              "  color: #000000;\n",
              "}\n",
              "#T_5a565_row0_col4 {\n",
              "  background-color: #ea8e70;\n",
              "  color: #f1f1f1;\n",
              "}\n",
              "#T_5a565_row1_col0 {\n",
              "  background-color: #b41c2d;\n",
              "  color: #f1f1f1;\n",
              "}\n",
              "#T_5a565_row1_col2 {\n",
              "  background-color: #d0d0d0;\n",
              "  color: #000000;\n",
              "}\n",
              "#T_5a565_row1_col3 {\n",
              "  background-color: #f5ac8b;\n",
              "  color: #000000;\n",
              "}\n",
              "#T_5a565_row1_col4 {\n",
              "  background-color: #898989;\n",
              "  color: #f1f1f1;\n",
              "}\n",
              "#T_5a565_row1_col5, #T_5a565_row5_col1 {\n",
              "  background-color: #505050;\n",
              "  color: #f1f1f1;\n",
              "}\n",
              "#T_5a565_row2_col1 {\n",
              "  background-color: #e0e0e0;\n",
              "  color: #000000;\n",
              "}\n",
              "#T_5a565_row2_col3 {\n",
              "  background-color: #de735c;\n",
              "  color: #f1f1f1;\n",
              "}\n",
              "#T_5a565_row2_col4 {\n",
              "  background-color: #9d9d9d;\n",
              "  color: #f1f1f1;\n",
              "}\n",
              "#T_5a565_row2_col5 {\n",
              "  background-color: #9b9b9b;\n",
              "  color: #f1f1f1;\n",
              "}\n",
              "#T_5a565_row3_col0 {\n",
              "  background-color: #f7b596;\n",
              "  color: #000000;\n",
              "}\n",
              "#T_5a565_row3_col1 {\n",
              "  background-color: #cc4c44;\n",
              "  color: #f1f1f1;\n",
              "}\n",
              "#T_5a565_row3_col2 {\n",
              "  background-color: #cb4942;\n",
              "  color: #f1f1f1;\n",
              "}\n",
              "#T_5a565_row3_col5 {\n",
              "  background-color: #c2383a;\n",
              "  color: #f1f1f1;\n",
              "}\n",
              "#T_5a565_row4_col0 {\n",
              "  background-color: #da6853;\n",
              "  color: #f1f1f1;\n",
              "}\n",
              "#T_5a565_row4_col1 {\n",
              "  background-color: #9f9f9f;\n",
              "  color: #f1f1f1;\n",
              "}\n",
              "#T_5a565_row4_col2 {\n",
              "  background-color: #a7a7a7;\n",
              "  color: #f1f1f1;\n",
              "}\n",
              "#T_5a565_row4_col5 {\n",
              "  background-color: #a5a5a5;\n",
              "  color: #f1f1f1;\n",
              "}\n",
              "#T_5a565_row5_col0 {\n",
              "  background-color: #ab162a;\n",
              "  color: #f1f1f1;\n",
              "}\n",
              "#T_5a565_row5_col2 {\n",
              "  background-color: #8f8f8f;\n",
              "  color: #f1f1f1;\n",
              "}\n",
              "#T_5a565_row5_col3 {\n",
              "  background-color: #ee9677;\n",
              "  color: #000000;\n",
              "}\n",
              "#T_5a565_row5_col4 {\n",
              "  background-color: #919191;\n",
              "  color: #f1f1f1;\n",
              "}\n",
              "</style>\n",
              "<table id=\"T_5a565_\" class=\"dataframe\">\n",
              "  <thead>\n",
              "    <tr>\n",
              "      <th class=\"blank level0\" >&nbsp;</th>\n",
              "      <th class=\"col_heading level0 col0\" >Sex</th>\n",
              "      <th class=\"col_heading level0 col1\" >Rank</th>\n",
              "      <th class=\"col_heading level0 col2\" >Year</th>\n",
              "      <th class=\"col_heading level0 col3\" >Degree</th>\n",
              "      <th class=\"col_heading level0 col4\" >YSdeg</th>\n",
              "      <th class=\"col_heading level0 col5\" >Salary</th>\n",
              "    </tr>\n",
              "  </thead>\n",
              "  <tbody>\n",
              "    <tr>\n",
              "      <th id=\"T_5a565_level0_row0\" class=\"row_heading level0 row0\" >Sex</th>\n",
              "      <td id=\"T_5a565_row0_col0\" class=\"data row0 col0\" >1.000000</td>\n",
              "      <td id=\"T_5a565_row0_col1\" class=\"data row0 col1\" >-0.230411</td>\n",
              "      <td id=\"T_5a565_row0_col2\" class=\"data row0 col2\" >-0.379404</td>\n",
              "      <td id=\"T_5a565_row0_col3\" class=\"data row0 col3\" >0.077112</td>\n",
              "      <td id=\"T_5a565_row0_col4\" class=\"data row0 col4\" >-0.088288</td>\n",
              "      <td id=\"T_5a565_row0_col5\" class=\"data row0 col5\" >-0.252782</td>\n",
              "    </tr>\n",
              "    <tr>\n",
              "      <th id=\"T_5a565_level0_row1\" class=\"row_heading level0 row1\" >Rank</th>\n",
              "      <td id=\"T_5a565_row1_col0\" class=\"data row1 col0\" >-0.230411</td>\n",
              "      <td id=\"T_5a565_row1_col1\" class=\"data row1 col1\" >1.000000</td>\n",
              "      <td id=\"T_5a565_row1_col2\" class=\"data row1 col2\" >0.507980</td>\n",
              "      <td id=\"T_5a565_row1_col3\" class=\"data row1 col3\" >-0.014564</td>\n",
              "      <td id=\"T_5a565_row1_col4\" class=\"data row1 col4\" >0.695724</td>\n",
              "      <td id=\"T_5a565_row1_col5\" class=\"data row1 col5\" >0.867488</td>\n",
              "    </tr>\n",
              "    <tr>\n",
              "      <th id=\"T_5a565_level0_row2\" class=\"row_heading level0 row2\" >Year</th>\n",
              "      <td id=\"T_5a565_row2_col0\" class=\"data row2 col0\" >-0.379404</td>\n",
              "      <td id=\"T_5a565_row2_col1\" class=\"data row2 col1\" >0.507980</td>\n",
              "      <td id=\"T_5a565_row2_col2\" class=\"data row2 col2\" >1.000000</td>\n",
              "      <td id=\"T_5a565_row2_col3\" class=\"data row2 col3\" >-0.143377</td>\n",
              "      <td id=\"T_5a565_row2_col4\" class=\"data row2 col4\" >0.638776</td>\n",
              "      <td id=\"T_5a565_row2_col5\" class=\"data row2 col5\" >0.700669</td>\n",
              "    </tr>\n",
              "    <tr>\n",
              "      <th id=\"T_5a565_level0_row3\" class=\"row_heading level0 row3\" >Degree</th>\n",
              "      <td id=\"T_5a565_row3_col0\" class=\"data row3 col0\" >0.077112</td>\n",
              "      <td id=\"T_5a565_row3_col1\" class=\"data row3 col1\" >-0.014564</td>\n",
              "      <td id=\"T_5a565_row3_col2\" class=\"data row3 col2\" >-0.143377</td>\n",
              "      <td id=\"T_5a565_row3_col3\" class=\"data row3 col3\" >1.000000</td>\n",
              "      <td id=\"T_5a565_row3_col4\" class=\"data row3 col4\" >-0.482836</td>\n",
              "      <td id=\"T_5a565_row3_col5\" class=\"data row3 col5\" >-0.069726</td>\n",
              "    </tr>\n",
              "    <tr>\n",
              "      <th id=\"T_5a565_level0_row4\" class=\"row_heading level0 row4\" >YSdeg</th>\n",
              "      <td id=\"T_5a565_row4_col0\" class=\"data row4 col0\" >-0.088288</td>\n",
              "      <td id=\"T_5a565_row4_col1\" class=\"data row4 col1\" >0.695724</td>\n",
              "      <td id=\"T_5a565_row4_col2\" class=\"data row4 col2\" >0.638776</td>\n",
              "      <td id=\"T_5a565_row4_col3\" class=\"data row4 col3\" >-0.482836</td>\n",
              "      <td id=\"T_5a565_row4_col4\" class=\"data row4 col4\" >1.000000</td>\n",
              "      <td id=\"T_5a565_row4_col5\" class=\"data row4 col5\" >0.674854</td>\n",
              "    </tr>\n",
              "    <tr>\n",
              "      <th id=\"T_5a565_level0_row5\" class=\"row_heading level0 row5\" >Salary</th>\n",
              "      <td id=\"T_5a565_row5_col0\" class=\"data row5 col0\" >-0.252782</td>\n",
              "      <td id=\"T_5a565_row5_col1\" class=\"data row5 col1\" >0.867488</td>\n",
              "      <td id=\"T_5a565_row5_col2\" class=\"data row5 col2\" >0.700669</td>\n",
              "      <td id=\"T_5a565_row5_col3\" class=\"data row5 col3\" >-0.069726</td>\n",
              "      <td id=\"T_5a565_row5_col4\" class=\"data row5 col4\" >0.674854</td>\n",
              "      <td id=\"T_5a565_row5_col5\" class=\"data row5 col5\" >1.000000</td>\n",
              "    </tr>\n",
              "  </tbody>\n",
              "</table>\n"
            ]
          },
          "metadata": {},
          "execution_count": 129
        }
      ]
    },
    {
      "cell_type": "markdown",
      "source": [
        "### **Find the linear regression equation for this data using columns 1-5 to column 6.**"
      ],
      "metadata": {
        "id": "s-tcus0KCxGS"
      }
    },
    {
      "cell_type": "code",
      "source": [
        "X = df.iloc[:, :-1].values # Features\n",
        "y = df.loc[:, 'Salary'].values # Target"
      ],
      "metadata": {
        "id": "ZHUE24KOE4Gg"
      },
      "execution_count": null,
      "outputs": []
    },
    {
      "cell_type": "code",
      "source": [
        "X.shape, y.shape"
      ],
      "metadata": {
        "colab": {
          "base_uri": "https://localhost:8080/"
        },
        "id": "7WwrohYkF1Ce",
        "outputId": "c213e904-4323-407a-f221-d594b1d1e2bc"
      },
      "execution_count": null,
      "outputs": [
        {
          "output_type": "execute_result",
          "data": {
            "text/plain": [
              "((52, 5), (52,))"
            ]
          },
          "metadata": {},
          "execution_count": 131
        }
      ]
    },
    {
      "cell_type": "code",
      "source": [
        "y = y.reshape(-1,1)\n",
        "y.shape"
      ],
      "metadata": {
        "colab": {
          "base_uri": "https://localhost:8080/"
        },
        "id": "WTZnnOYPF8KS",
        "outputId": "50feb464-e9f5-4baf-8e6a-e33a22e74189"
      },
      "execution_count": null,
      "outputs": [
        {
          "output_type": "execute_result",
          "data": {
            "text/plain": [
              "(52, 1)"
            ]
          },
          "metadata": {},
          "execution_count": 132
        }
      ]
    },
    {
      "cell_type": "code",
      "source": [
        "from sklearn.model_selection import train_test_split\n",
        "X_train, X_test, y_train, y_test = train_test_split(X, y, test_size=0.25)"
      ],
      "metadata": {
        "id": "Ewj7Rkc7ErZr"
      },
      "execution_count": null,
      "outputs": []
    },
    {
      "cell_type": "code",
      "source": [
        "from sklearn.linear_model import LinearRegression\n",
        "reg = LinearRegression(normalize = True).fit(X_train, y_train)\n",
        "\n",
        "m = reg.coef_[0].round(2)\n",
        "c = reg.intercept_[0].round(2)\n",
        "\n",
        "m,c"
      ],
      "metadata": {
        "colab": {
          "base_uri": "https://localhost:8080/"
        },
        "id": "LU316fiEFRCU",
        "outputId": "552cd470-0020-45a5-9d26-2b2ea87aac81"
      },
      "execution_count": null,
      "outputs": [
        {
          "output_type": "stream",
          "name": "stderr",
          "text": [
            "/usr/local/lib/python3.7/dist-packages/sklearn/linear_model/_base.py:145: FutureWarning: 'normalize' was deprecated in version 1.0 and will be removed in 1.2.\n",
            "If you wish to scale the data, use Pipeline with a StandardScaler in a preprocessing stage. To reproduce the previous behavior:\n",
            "\n",
            "from sklearn.pipeline import make_pipeline\n",
            "\n",
            "model = make_pipeline(StandardScaler(with_mean=False), LinearRegression())\n",
            "\n",
            "If you wish to pass a sample_weight parameter, you need to pass it as a fit parameter to each step of the pipeline as follows:\n",
            "\n",
            "kwargs = {s[0] + '__sample_weight': sample_weight for s in model.steps}\n",
            "model.fit(X, y, **kwargs)\n",
            "\n",
            "\n",
            "  FutureWarning,\n"
          ]
        },
        {
          "output_type": "execute_result",
          "data": {
            "text/plain": [
              "(array([1782.37, 5447.12,  460.89, -937.15,  -82.54]), 10792.79)"
            ]
          },
          "metadata": {},
          "execution_count": 134
        }
      ]
    },
    {
      "cell_type": "code",
      "source": [
        "print('Linear Regression equation, y = ({[0]}*X1) + ({[1]}*X2) + ({[2]}*X3) + ({[3]}*X4) + ({[4]}*X5) + {}'.format(m,m,m,m,m,c))"
      ],
      "metadata": {
        "colab": {
          "base_uri": "https://localhost:8080/"
        },
        "id": "z505EnNjG_Tm",
        "outputId": "ace02333-93c9-484b-cf2d-da2e3ff1199c"
      },
      "execution_count": null,
      "outputs": [
        {
          "output_type": "stream",
          "name": "stdout",
          "text": [
            "Linear Regression equation, y = (1782.37*X1) + (5447.12*X2) + (460.89*X3) + (-937.15*X4) + (-82.54*X5) + 10792.79\n"
          ]
        }
      ]
    },
    {
      "cell_type": "code",
      "source": [
        "y_pred = reg.predict(X_test)"
      ],
      "metadata": {
        "id": "V9F74_PuGme9"
      },
      "execution_count": null,
      "outputs": []
    },
    {
      "cell_type": "code",
      "source": [
        "from sklearn.metrics import r2_score\n",
        "print('R2-Score: ', metrics.r2_score(y_test, y_pred, multioutput='variance_weighted').round(4))"
      ],
      "metadata": {
        "colab": {
          "base_uri": "https://localhost:8080/"
        },
        "id": "G_330VfCGjiz",
        "outputId": "5255bd36-66a8-4aa6-bd28-2e3e8064a571"
      },
      "execution_count": null,
      "outputs": [
        {
          "output_type": "stream",
          "name": "stdout",
          "text": [
            "R2-Score:  0.8823\n"
          ]
        }
      ]
    },
    {
      "cell_type": "markdown",
      "source": [
        "### **Find the selection of columns with the best $R^2$ score.**"
      ],
      "metadata": {
        "id": "qqoHI2BSAGHL"
      }
    },
    {
      "cell_type": "code",
      "source": [
        "from itertools import combinations\n",
        "\n",
        "comb_list = []\n",
        "\n",
        "df_features = ['Sex', 'Rank', 'Year', 'Degree', 'YSdeg']\n",
        "\n",
        "for i in range(1, len(df_features) +1):\n",
        "  comb_list += list(combinations(df_features, i))\n",
        "  #comb_list += list(itertools.combinations(df_features, i)) ---> just, import itertools"
      ],
      "metadata": {
        "id": "BppVVTxgem3D"
      },
      "execution_count": null,
      "outputs": []
    },
    {
      "cell_type": "code",
      "source": [
        "result = []\n",
        "\n",
        "for n in comb_list:\n",
        "  X = df[list(n)]\n",
        "  y = df.iloc[:, -1]\n",
        "\n",
        "  from sklearn.model_selection import train_test_split\n",
        "  X_train, X_test, y_train, y_test = train_test_split(X, y, test_size=0.25)\n",
        "\n",
        "  from sklearn.linear_model import LinearRegression\n",
        "  reg = LinearRegression().fit(X_train, y_train)\n",
        "\n",
        "  y_pred = reg.predict(X_test)\n",
        "\n",
        "  from sklearn.metrics import r2_score\n",
        "  print('For Features:', n)\n",
        "  R2_Score = metrics.r2_score(y_test, y_pred, multioutput='variance_weighted').round(4)\n",
        "  print('R2-Score: ', R2_Score, '\\n')\n",
        "\n",
        "  result.append({'Features' : n, 'R2-Score': R2_Score})\n",
        "\n",
        "  score = pd.DataFrame(result, columns = ['Features', 'R2-Score'])"
      ],
      "metadata": {
        "colab": {
          "base_uri": "https://localhost:8080/"
        },
        "id": "vWsSq2oajRTW",
        "outputId": "cbc4eaa0-867d-42f3-eca6-4802accdc659"
      },
      "execution_count": null,
      "outputs": [
        {
          "output_type": "stream",
          "name": "stdout",
          "text": [
            "For Features: ('Sex',)\n",
            "R2-Score:  -0.1902 \n",
            "\n",
            "For Features: ('Rank',)\n",
            "R2-Score:  0.8002 \n",
            "\n",
            "For Features: ('Year',)\n",
            "R2-Score:  0.3849 \n",
            "\n",
            "For Features: ('Degree',)\n",
            "R2-Score:  -0.1867 \n",
            "\n",
            "For Features: ('YSdeg',)\n",
            "R2-Score:  -0.0963 \n",
            "\n",
            "For Features: ('Sex', 'Rank')\n",
            "R2-Score:  0.4965 \n",
            "\n",
            "For Features: ('Sex', 'Year')\n",
            "R2-Score:  0.1008 \n",
            "\n",
            "For Features: ('Sex', 'Degree')\n",
            "R2-Score:  -0.8433 \n",
            "\n",
            "For Features: ('Sex', 'YSdeg')\n",
            "R2-Score:  0.7977 \n",
            "\n",
            "For Features: ('Rank', 'Year')\n",
            "R2-Score:  0.9022 \n",
            "\n",
            "For Features: ('Rank', 'Degree')\n",
            "R2-Score:  0.7859 \n",
            "\n",
            "For Features: ('Rank', 'YSdeg')\n",
            "R2-Score:  0.8057 \n",
            "\n",
            "For Features: ('Year', 'Degree')\n",
            "R2-Score:  0.532 \n",
            "\n",
            "For Features: ('Year', 'YSdeg')\n",
            "R2-Score:  0.5217 \n",
            "\n",
            "For Features: ('Degree', 'YSdeg')\n",
            "R2-Score:  0.5883 \n",
            "\n",
            "For Features: ('Sex', 'Rank', 'Year')\n",
            "R2-Score:  0.6968 \n",
            "\n",
            "For Features: ('Sex', 'Rank', 'Degree')\n",
            "R2-Score:  0.7548 \n",
            "\n",
            "For Features: ('Sex', 'Rank', 'YSdeg')\n",
            "R2-Score:  0.5851 \n",
            "\n",
            "For Features: ('Sex', 'Year', 'Degree')\n",
            "R2-Score:  0.3293 \n",
            "\n",
            "For Features: ('Sex', 'Year', 'YSdeg')\n",
            "R2-Score:  0.5164 \n",
            "\n",
            "For Features: ('Sex', 'Degree', 'YSdeg')\n",
            "R2-Score:  0.4975 \n",
            "\n",
            "For Features: ('Rank', 'Year', 'Degree')\n",
            "R2-Score:  0.9598 \n",
            "\n",
            "For Features: ('Rank', 'Year', 'YSdeg')\n",
            "R2-Score:  0.8436 \n",
            "\n",
            "For Features: ('Rank', 'Degree', 'YSdeg')\n",
            "R2-Score:  0.7884 \n",
            "\n",
            "For Features: ('Year', 'Degree', 'YSdeg')\n",
            "R2-Score:  0.6599 \n",
            "\n",
            "For Features: ('Sex', 'Rank', 'Year', 'Degree')\n",
            "R2-Score:  0.8628 \n",
            "\n",
            "For Features: ('Sex', 'Rank', 'Year', 'YSdeg')\n",
            "R2-Score:  0.9124 \n",
            "\n",
            "For Features: ('Sex', 'Rank', 'Degree', 'YSdeg')\n",
            "R2-Score:  0.7522 \n",
            "\n",
            "For Features: ('Sex', 'Year', 'Degree', 'YSdeg')\n",
            "R2-Score:  0.485 \n",
            "\n",
            "For Features: ('Rank', 'Year', 'Degree', 'YSdeg')\n",
            "R2-Score:  0.7435 \n",
            "\n",
            "For Features: ('Sex', 'Rank', 'Year', 'Degree', 'YSdeg')\n",
            "R2-Score:  0.8276 \n",
            "\n"
          ]
        }
      ]
    },
    {
      "cell_type": "code",
      "source": [
        "score = score.sort_values(by = 'R2-Score', ascending = False)\n",
        "score.head()"
      ],
      "metadata": {
        "colab": {
          "base_uri": "https://localhost:8080/",
          "height": 206
        },
        "id": "Grlmdy3a7ayc",
        "outputId": "cdb9345b-286f-49fc-9e36-34255d63aba3"
      },
      "execution_count": null,
      "outputs": [
        {
          "output_type": "execute_result",
          "data": {
            "text/plain": [
              "                     Features  R2-Score\n",
              "21       (Rank, Year, Degree)    0.9598\n",
              "26   (Sex, Rank, Year, YSdeg)    0.9124\n",
              "9                (Rank, Year)    0.9022\n",
              "25  (Sex, Rank, Year, Degree)    0.8628\n",
              "22        (Rank, Year, YSdeg)    0.8436"
            ],
            "text/html": [
              "\n",
              "  <div id=\"df-6180d42c-12d4-4705-8cd6-d82d66beba83\">\n",
              "    <div class=\"colab-df-container\">\n",
              "      <div>\n",
              "<style scoped>\n",
              "    .dataframe tbody tr th:only-of-type {\n",
              "        vertical-align: middle;\n",
              "    }\n",
              "\n",
              "    .dataframe tbody tr th {\n",
              "        vertical-align: top;\n",
              "    }\n",
              "\n",
              "    .dataframe thead th {\n",
              "        text-align: right;\n",
              "    }\n",
              "</style>\n",
              "<table border=\"1\" class=\"dataframe\">\n",
              "  <thead>\n",
              "    <tr style=\"text-align: right;\">\n",
              "      <th></th>\n",
              "      <th>Features</th>\n",
              "      <th>R2-Score</th>\n",
              "    </tr>\n",
              "  </thead>\n",
              "  <tbody>\n",
              "    <tr>\n",
              "      <th>21</th>\n",
              "      <td>(Rank, Year, Degree)</td>\n",
              "      <td>0.9598</td>\n",
              "    </tr>\n",
              "    <tr>\n",
              "      <th>26</th>\n",
              "      <td>(Sex, Rank, Year, YSdeg)</td>\n",
              "      <td>0.9124</td>\n",
              "    </tr>\n",
              "    <tr>\n",
              "      <th>9</th>\n",
              "      <td>(Rank, Year)</td>\n",
              "      <td>0.9022</td>\n",
              "    </tr>\n",
              "    <tr>\n",
              "      <th>25</th>\n",
              "      <td>(Sex, Rank, Year, Degree)</td>\n",
              "      <td>0.8628</td>\n",
              "    </tr>\n",
              "    <tr>\n",
              "      <th>22</th>\n",
              "      <td>(Rank, Year, YSdeg)</td>\n",
              "      <td>0.8436</td>\n",
              "    </tr>\n",
              "  </tbody>\n",
              "</table>\n",
              "</div>\n",
              "      <button class=\"colab-df-convert\" onclick=\"convertToInteractive('df-6180d42c-12d4-4705-8cd6-d82d66beba83')\"\n",
              "              title=\"Convert this dataframe to an interactive table.\"\n",
              "              style=\"display:none;\">\n",
              "        \n",
              "  <svg xmlns=\"http://www.w3.org/2000/svg\" height=\"24px\"viewBox=\"0 0 24 24\"\n",
              "       width=\"24px\">\n",
              "    <path d=\"M0 0h24v24H0V0z\" fill=\"none\"/>\n",
              "    <path d=\"M18.56 5.44l.94 2.06.94-2.06 2.06-.94-2.06-.94-.94-2.06-.94 2.06-2.06.94zm-11 1L8.5 8.5l.94-2.06 2.06-.94-2.06-.94L8.5 2.5l-.94 2.06-2.06.94zm10 10l.94 2.06.94-2.06 2.06-.94-2.06-.94-.94-2.06-.94 2.06-2.06.94z\"/><path d=\"M17.41 7.96l-1.37-1.37c-.4-.4-.92-.59-1.43-.59-.52 0-1.04.2-1.43.59L10.3 9.45l-7.72 7.72c-.78.78-.78 2.05 0 2.83L4 21.41c.39.39.9.59 1.41.59.51 0 1.02-.2 1.41-.59l7.78-7.78 2.81-2.81c.8-.78.8-2.07 0-2.86zM5.41 20L4 18.59l7.72-7.72 1.47 1.35L5.41 20z\"/>\n",
              "  </svg>\n",
              "      </button>\n",
              "      \n",
              "  <style>\n",
              "    .colab-df-container {\n",
              "      display:flex;\n",
              "      flex-wrap:wrap;\n",
              "      gap: 12px;\n",
              "    }\n",
              "\n",
              "    .colab-df-convert {\n",
              "      background-color: #E8F0FE;\n",
              "      border: none;\n",
              "      border-radius: 50%;\n",
              "      cursor: pointer;\n",
              "      display: none;\n",
              "      fill: #1967D2;\n",
              "      height: 32px;\n",
              "      padding: 0 0 0 0;\n",
              "      width: 32px;\n",
              "    }\n",
              "\n",
              "    .colab-df-convert:hover {\n",
              "      background-color: #E2EBFA;\n",
              "      box-shadow: 0px 1px 2px rgba(60, 64, 67, 0.3), 0px 1px 3px 1px rgba(60, 64, 67, 0.15);\n",
              "      fill: #174EA6;\n",
              "    }\n",
              "\n",
              "    [theme=dark] .colab-df-convert {\n",
              "      background-color: #3B4455;\n",
              "      fill: #D2E3FC;\n",
              "    }\n",
              "\n",
              "    [theme=dark] .colab-df-convert:hover {\n",
              "      background-color: #434B5C;\n",
              "      box-shadow: 0px 1px 3px 1px rgba(0, 0, 0, 0.15);\n",
              "      filter: drop-shadow(0px 1px 2px rgba(0, 0, 0, 0.3));\n",
              "      fill: #FFFFFF;\n",
              "    }\n",
              "  </style>\n",
              "\n",
              "      <script>\n",
              "        const buttonEl =\n",
              "          document.querySelector('#df-6180d42c-12d4-4705-8cd6-d82d66beba83 button.colab-df-convert');\n",
              "        buttonEl.style.display =\n",
              "          google.colab.kernel.accessAllowed ? 'block' : 'none';\n",
              "\n",
              "        async function convertToInteractive(key) {\n",
              "          const element = document.querySelector('#df-6180d42c-12d4-4705-8cd6-d82d66beba83');\n",
              "          const dataTable =\n",
              "            await google.colab.kernel.invokeFunction('convertToInteractive',\n",
              "                                                     [key], {});\n",
              "          if (!dataTable) return;\n",
              "\n",
              "          const docLinkHtml = 'Like what you see? Visit the ' +\n",
              "            '<a target=\"_blank\" href=https://colab.research.google.com/notebooks/data_table.ipynb>data table notebook</a>'\n",
              "            + ' to learn more about interactive tables.';\n",
              "          element.innerHTML = '';\n",
              "          dataTable['output_type'] = 'display_data';\n",
              "          await google.colab.output.renderOutput(dataTable, element);\n",
              "          const docLink = document.createElement('div');\n",
              "          docLink.innerHTML = docLinkHtml;\n",
              "          element.appendChild(docLink);\n",
              "        }\n",
              "      </script>\n",
              "    </div>\n",
              "  </div>\n",
              "  "
            ]
          },
          "metadata": {},
          "execution_count": 140
        }
      ]
    },
    {
      "cell_type": "code",
      "source": [
        "score.tail(3)"
      ],
      "metadata": {
        "colab": {
          "base_uri": "https://localhost:8080/",
          "height": 143
        },
        "id": "4P24NGSY8_rR",
        "outputId": "f394a9d8-1b4e-46fa-b1e5-1dd168330583"
      },
      "execution_count": null,
      "outputs": [
        {
          "output_type": "execute_result",
          "data": {
            "text/plain": [
              "        Features  R2-Score\n",
              "3      (Degree,)   -0.1867\n",
              "0         (Sex,)   -0.1902\n",
              "7  (Sex, Degree)   -0.8433"
            ],
            "text/html": [
              "\n",
              "  <div id=\"df-f606b61a-7889-499d-a586-d97d80468150\">\n",
              "    <div class=\"colab-df-container\">\n",
              "      <div>\n",
              "<style scoped>\n",
              "    .dataframe tbody tr th:only-of-type {\n",
              "        vertical-align: middle;\n",
              "    }\n",
              "\n",
              "    .dataframe tbody tr th {\n",
              "        vertical-align: top;\n",
              "    }\n",
              "\n",
              "    .dataframe thead th {\n",
              "        text-align: right;\n",
              "    }\n",
              "</style>\n",
              "<table border=\"1\" class=\"dataframe\">\n",
              "  <thead>\n",
              "    <tr style=\"text-align: right;\">\n",
              "      <th></th>\n",
              "      <th>Features</th>\n",
              "      <th>R2-Score</th>\n",
              "    </tr>\n",
              "  </thead>\n",
              "  <tbody>\n",
              "    <tr>\n",
              "      <th>3</th>\n",
              "      <td>(Degree,)</td>\n",
              "      <td>-0.1867</td>\n",
              "    </tr>\n",
              "    <tr>\n",
              "      <th>0</th>\n",
              "      <td>(Sex,)</td>\n",
              "      <td>-0.1902</td>\n",
              "    </tr>\n",
              "    <tr>\n",
              "      <th>7</th>\n",
              "      <td>(Sex, Degree)</td>\n",
              "      <td>-0.8433</td>\n",
              "    </tr>\n",
              "  </tbody>\n",
              "</table>\n",
              "</div>\n",
              "      <button class=\"colab-df-convert\" onclick=\"convertToInteractive('df-f606b61a-7889-499d-a586-d97d80468150')\"\n",
              "              title=\"Convert this dataframe to an interactive table.\"\n",
              "              style=\"display:none;\">\n",
              "        \n",
              "  <svg xmlns=\"http://www.w3.org/2000/svg\" height=\"24px\"viewBox=\"0 0 24 24\"\n",
              "       width=\"24px\">\n",
              "    <path d=\"M0 0h24v24H0V0z\" fill=\"none\"/>\n",
              "    <path d=\"M18.56 5.44l.94 2.06.94-2.06 2.06-.94-2.06-.94-.94-2.06-.94 2.06-2.06.94zm-11 1L8.5 8.5l.94-2.06 2.06-.94-2.06-.94L8.5 2.5l-.94 2.06-2.06.94zm10 10l.94 2.06.94-2.06 2.06-.94-2.06-.94-.94-2.06-.94 2.06-2.06.94z\"/><path d=\"M17.41 7.96l-1.37-1.37c-.4-.4-.92-.59-1.43-.59-.52 0-1.04.2-1.43.59L10.3 9.45l-7.72 7.72c-.78.78-.78 2.05 0 2.83L4 21.41c.39.39.9.59 1.41.59.51 0 1.02-.2 1.41-.59l7.78-7.78 2.81-2.81c.8-.78.8-2.07 0-2.86zM5.41 20L4 18.59l7.72-7.72 1.47 1.35L5.41 20z\"/>\n",
              "  </svg>\n",
              "      </button>\n",
              "      \n",
              "  <style>\n",
              "    .colab-df-container {\n",
              "      display:flex;\n",
              "      flex-wrap:wrap;\n",
              "      gap: 12px;\n",
              "    }\n",
              "\n",
              "    .colab-df-convert {\n",
              "      background-color: #E8F0FE;\n",
              "      border: none;\n",
              "      border-radius: 50%;\n",
              "      cursor: pointer;\n",
              "      display: none;\n",
              "      fill: #1967D2;\n",
              "      height: 32px;\n",
              "      padding: 0 0 0 0;\n",
              "      width: 32px;\n",
              "    }\n",
              "\n",
              "    .colab-df-convert:hover {\n",
              "      background-color: #E2EBFA;\n",
              "      box-shadow: 0px 1px 2px rgba(60, 64, 67, 0.3), 0px 1px 3px 1px rgba(60, 64, 67, 0.15);\n",
              "      fill: #174EA6;\n",
              "    }\n",
              "\n",
              "    [theme=dark] .colab-df-convert {\n",
              "      background-color: #3B4455;\n",
              "      fill: #D2E3FC;\n",
              "    }\n",
              "\n",
              "    [theme=dark] .colab-df-convert:hover {\n",
              "      background-color: #434B5C;\n",
              "      box-shadow: 0px 1px 3px 1px rgba(0, 0, 0, 0.15);\n",
              "      filter: drop-shadow(0px 1px 2px rgba(0, 0, 0, 0.3));\n",
              "      fill: #FFFFFF;\n",
              "    }\n",
              "  </style>\n",
              "\n",
              "      <script>\n",
              "        const buttonEl =\n",
              "          document.querySelector('#df-f606b61a-7889-499d-a586-d97d80468150 button.colab-df-convert');\n",
              "        buttonEl.style.display =\n",
              "          google.colab.kernel.accessAllowed ? 'block' : 'none';\n",
              "\n",
              "        async function convertToInteractive(key) {\n",
              "          const element = document.querySelector('#df-f606b61a-7889-499d-a586-d97d80468150');\n",
              "          const dataTable =\n",
              "            await google.colab.kernel.invokeFunction('convertToInteractive',\n",
              "                                                     [key], {});\n",
              "          if (!dataTable) return;\n",
              "\n",
              "          const docLinkHtml = 'Like what you see? Visit the ' +\n",
              "            '<a target=\"_blank\" href=https://colab.research.google.com/notebooks/data_table.ipynb>data table notebook</a>'\n",
              "            + ' to learn more about interactive tables.';\n",
              "          element.innerHTML = '';\n",
              "          dataTable['output_type'] = 'display_data';\n",
              "          await google.colab.output.renderOutput(dataTable, element);\n",
              "          const docLink = document.createElement('div');\n",
              "          docLink.innerHTML = docLinkHtml;\n",
              "          element.appendChild(docLink);\n",
              "        }\n",
              "      </script>\n",
              "    </div>\n",
              "  </div>\n",
              "  "
            ]
          },
          "metadata": {},
          "execution_count": 141
        }
      ]
    },
    {
      "cell_type": "code",
      "source": [
        "best_feature = score.iloc[:1, :1].values[0][0]\n",
        "best_R2Score = score.iloc[:1, 1:].values[0][0]\n",
        "\n",
        "print('Among the combinations, {} feature combination provides the best R2-Score {}.'.format(best_feature, best_R2Score))"
      ],
      "metadata": {
        "colab": {
          "base_uri": "https://localhost:8080/"
        },
        "id": "2C82Ksv29o20",
        "outputId": "b7c9103a-5586-412c-c78e-4d638b210d3d"
      },
      "execution_count": null,
      "outputs": [
        {
          "output_type": "stream",
          "name": "stdout",
          "text": [
            "Among the combinations, ('Rank', 'Year', 'Degree') feature combination provides the best R2-Score 0.9598.\n"
          ]
        }
      ]
    },
    {
      "cell_type": "markdown",
      "source": [
        "3. **Report whether sex is a factor in salary.**"
      ],
      "metadata": {
        "id": "tdL-vSbKHS1k"
      }
    },
    {
      "cell_type": "code",
      "source": [
        "X = df.iloc[:, 0:1].values # Features\n",
        "y = df.loc[:, 'Salary'].values # Target"
      ],
      "metadata": {
        "id": "lSZOhlgsHV6D"
      },
      "execution_count": null,
      "outputs": []
    },
    {
      "cell_type": "code",
      "source": [
        "from sklearn.model_selection import train_test_split\n",
        "X_train, X_test, y_train, y_test = train_test_split(X, y, test_size=0.3)"
      ],
      "metadata": {
        "id": "G8JU68G6Hisk"
      },
      "execution_count": null,
      "outputs": []
    },
    {
      "cell_type": "code",
      "source": [
        "from sklearn.linear_model import LinearRegression\n",
        "reg = LinearRegression().fit(X_train, y_train)"
      ],
      "metadata": {
        "id": "l9IyY4XBH9SV"
      },
      "execution_count": null,
      "outputs": []
    },
    {
      "cell_type": "code",
      "source": [
        "y_pred = reg.predict(X_test)\n",
        "from sklearn.metrics import r2_score\n",
        "r2_score = metrics.r2_score(y_test, y_pred, multioutput='variance_weighted').round(4)\n",
        "print('R2-Score for feature \"Sex\": ', r2_score )\n",
        "\n",
        "print(\"\\nSince, the R2_Score is {} which is too low, can't be a factor in Salary determination.\".format(r2_score))\n"
      ],
      "metadata": {
        "colab": {
          "base_uri": "https://localhost:8080/"
        },
        "id": "-TwaQ9L5INA2",
        "outputId": "8f3f43fd-5af7-4b54-b729-2d4b4ae670ac"
      },
      "execution_count": null,
      "outputs": [
        {
          "output_type": "stream",
          "name": "stdout",
          "text": [
            "R2-Score for feature \"Sex\":  0.1712\n",
            "\n",
            "Since, the R2_Score is 0.1712 which is too low, can't be a factor in Salary determination.\n"
          ]
        }
      ]
    },
    {
      "cell_type": "code",
      "source": [
        "df.corr().style.background_gradient(cmap ='RdGy')"
      ],
      "metadata": {
        "colab": {
          "base_uri": "https://localhost:8080/",
          "height": 237
        },
        "id": "ESd9e81_Lj9-",
        "outputId": "a5d0b35c-b7bd-4a2e-8a89-d1107601aaef"
      },
      "execution_count": null,
      "outputs": [
        {
          "output_type": "execute_result",
          "data": {
            "text/plain": [
              "<pandas.io.formats.style.Styler at 0x7f7979cfc450>"
            ],
            "text/html": [
              "<style type=\"text/css\">\n",
              "#T_2fcb5_row0_col0, #T_2fcb5_row1_col1, #T_2fcb5_row2_col2, #T_2fcb5_row3_col3, #T_2fcb5_row4_col4, #T_2fcb5_row5_col5 {\n",
              "  background-color: #1a1a1a;\n",
              "  color: #f1f1f1;\n",
              "}\n",
              "#T_2fcb5_row0_col1, #T_2fcb5_row0_col2, #T_2fcb5_row0_col5, #T_2fcb5_row2_col0, #T_2fcb5_row3_col4, #T_2fcb5_row4_col3 {\n",
              "  background-color: #67001f;\n",
              "  color: #f1f1f1;\n",
              "}\n",
              "#T_2fcb5_row0_col3 {\n",
              "  background-color: #fbceb7;\n",
              "  color: #000000;\n",
              "}\n",
              "#T_2fcb5_row0_col4 {\n",
              "  background-color: #ea8e70;\n",
              "  color: #f1f1f1;\n",
              "}\n",
              "#T_2fcb5_row1_col0 {\n",
              "  background-color: #b41c2d;\n",
              "  color: #f1f1f1;\n",
              "}\n",
              "#T_2fcb5_row1_col2 {\n",
              "  background-color: #d0d0d0;\n",
              "  color: #000000;\n",
              "}\n",
              "#T_2fcb5_row1_col3 {\n",
              "  background-color: #f5ac8b;\n",
              "  color: #000000;\n",
              "}\n",
              "#T_2fcb5_row1_col4 {\n",
              "  background-color: #898989;\n",
              "  color: #f1f1f1;\n",
              "}\n",
              "#T_2fcb5_row1_col5, #T_2fcb5_row5_col1 {\n",
              "  background-color: #505050;\n",
              "  color: #f1f1f1;\n",
              "}\n",
              "#T_2fcb5_row2_col1 {\n",
              "  background-color: #e0e0e0;\n",
              "  color: #000000;\n",
              "}\n",
              "#T_2fcb5_row2_col3 {\n",
              "  background-color: #de735c;\n",
              "  color: #f1f1f1;\n",
              "}\n",
              "#T_2fcb5_row2_col4 {\n",
              "  background-color: #9d9d9d;\n",
              "  color: #f1f1f1;\n",
              "}\n",
              "#T_2fcb5_row2_col5 {\n",
              "  background-color: #9b9b9b;\n",
              "  color: #f1f1f1;\n",
              "}\n",
              "#T_2fcb5_row3_col0 {\n",
              "  background-color: #f7b596;\n",
              "  color: #000000;\n",
              "}\n",
              "#T_2fcb5_row3_col1 {\n",
              "  background-color: #cc4c44;\n",
              "  color: #f1f1f1;\n",
              "}\n",
              "#T_2fcb5_row3_col2 {\n",
              "  background-color: #cb4942;\n",
              "  color: #f1f1f1;\n",
              "}\n",
              "#T_2fcb5_row3_col5 {\n",
              "  background-color: #c2383a;\n",
              "  color: #f1f1f1;\n",
              "}\n",
              "#T_2fcb5_row4_col0 {\n",
              "  background-color: #da6853;\n",
              "  color: #f1f1f1;\n",
              "}\n",
              "#T_2fcb5_row4_col1 {\n",
              "  background-color: #9f9f9f;\n",
              "  color: #f1f1f1;\n",
              "}\n",
              "#T_2fcb5_row4_col2 {\n",
              "  background-color: #a7a7a7;\n",
              "  color: #f1f1f1;\n",
              "}\n",
              "#T_2fcb5_row4_col5 {\n",
              "  background-color: #a5a5a5;\n",
              "  color: #f1f1f1;\n",
              "}\n",
              "#T_2fcb5_row5_col0 {\n",
              "  background-color: #ab162a;\n",
              "  color: #f1f1f1;\n",
              "}\n",
              "#T_2fcb5_row5_col2 {\n",
              "  background-color: #8f8f8f;\n",
              "  color: #f1f1f1;\n",
              "}\n",
              "#T_2fcb5_row5_col3 {\n",
              "  background-color: #ee9677;\n",
              "  color: #000000;\n",
              "}\n",
              "#T_2fcb5_row5_col4 {\n",
              "  background-color: #919191;\n",
              "  color: #f1f1f1;\n",
              "}\n",
              "</style>\n",
              "<table id=\"T_2fcb5_\" class=\"dataframe\">\n",
              "  <thead>\n",
              "    <tr>\n",
              "      <th class=\"blank level0\" >&nbsp;</th>\n",
              "      <th class=\"col_heading level0 col0\" >Sex</th>\n",
              "      <th class=\"col_heading level0 col1\" >Rank</th>\n",
              "      <th class=\"col_heading level0 col2\" >Year</th>\n",
              "      <th class=\"col_heading level0 col3\" >Degree</th>\n",
              "      <th class=\"col_heading level0 col4\" >YSdeg</th>\n",
              "      <th class=\"col_heading level0 col5\" >Salary</th>\n",
              "    </tr>\n",
              "  </thead>\n",
              "  <tbody>\n",
              "    <tr>\n",
              "      <th id=\"T_2fcb5_level0_row0\" class=\"row_heading level0 row0\" >Sex</th>\n",
              "      <td id=\"T_2fcb5_row0_col0\" class=\"data row0 col0\" >1.000000</td>\n",
              "      <td id=\"T_2fcb5_row0_col1\" class=\"data row0 col1\" >-0.230411</td>\n",
              "      <td id=\"T_2fcb5_row0_col2\" class=\"data row0 col2\" >-0.379404</td>\n",
              "      <td id=\"T_2fcb5_row0_col3\" class=\"data row0 col3\" >0.077112</td>\n",
              "      <td id=\"T_2fcb5_row0_col4\" class=\"data row0 col4\" >-0.088288</td>\n",
              "      <td id=\"T_2fcb5_row0_col5\" class=\"data row0 col5\" >-0.252782</td>\n",
              "    </tr>\n",
              "    <tr>\n",
              "      <th id=\"T_2fcb5_level0_row1\" class=\"row_heading level0 row1\" >Rank</th>\n",
              "      <td id=\"T_2fcb5_row1_col0\" class=\"data row1 col0\" >-0.230411</td>\n",
              "      <td id=\"T_2fcb5_row1_col1\" class=\"data row1 col1\" >1.000000</td>\n",
              "      <td id=\"T_2fcb5_row1_col2\" class=\"data row1 col2\" >0.507980</td>\n",
              "      <td id=\"T_2fcb5_row1_col3\" class=\"data row1 col3\" >-0.014564</td>\n",
              "      <td id=\"T_2fcb5_row1_col4\" class=\"data row1 col4\" >0.695724</td>\n",
              "      <td id=\"T_2fcb5_row1_col5\" class=\"data row1 col5\" >0.867488</td>\n",
              "    </tr>\n",
              "    <tr>\n",
              "      <th id=\"T_2fcb5_level0_row2\" class=\"row_heading level0 row2\" >Year</th>\n",
              "      <td id=\"T_2fcb5_row2_col0\" class=\"data row2 col0\" >-0.379404</td>\n",
              "      <td id=\"T_2fcb5_row2_col1\" class=\"data row2 col1\" >0.507980</td>\n",
              "      <td id=\"T_2fcb5_row2_col2\" class=\"data row2 col2\" >1.000000</td>\n",
              "      <td id=\"T_2fcb5_row2_col3\" class=\"data row2 col3\" >-0.143377</td>\n",
              "      <td id=\"T_2fcb5_row2_col4\" class=\"data row2 col4\" >0.638776</td>\n",
              "      <td id=\"T_2fcb5_row2_col5\" class=\"data row2 col5\" >0.700669</td>\n",
              "    </tr>\n",
              "    <tr>\n",
              "      <th id=\"T_2fcb5_level0_row3\" class=\"row_heading level0 row3\" >Degree</th>\n",
              "      <td id=\"T_2fcb5_row3_col0\" class=\"data row3 col0\" >0.077112</td>\n",
              "      <td id=\"T_2fcb5_row3_col1\" class=\"data row3 col1\" >-0.014564</td>\n",
              "      <td id=\"T_2fcb5_row3_col2\" class=\"data row3 col2\" >-0.143377</td>\n",
              "      <td id=\"T_2fcb5_row3_col3\" class=\"data row3 col3\" >1.000000</td>\n",
              "      <td id=\"T_2fcb5_row3_col4\" class=\"data row3 col4\" >-0.482836</td>\n",
              "      <td id=\"T_2fcb5_row3_col5\" class=\"data row3 col5\" >-0.069726</td>\n",
              "    </tr>\n",
              "    <tr>\n",
              "      <th id=\"T_2fcb5_level0_row4\" class=\"row_heading level0 row4\" >YSdeg</th>\n",
              "      <td id=\"T_2fcb5_row4_col0\" class=\"data row4 col0\" >-0.088288</td>\n",
              "      <td id=\"T_2fcb5_row4_col1\" class=\"data row4 col1\" >0.695724</td>\n",
              "      <td id=\"T_2fcb5_row4_col2\" class=\"data row4 col2\" >0.638776</td>\n",
              "      <td id=\"T_2fcb5_row4_col3\" class=\"data row4 col3\" >-0.482836</td>\n",
              "      <td id=\"T_2fcb5_row4_col4\" class=\"data row4 col4\" >1.000000</td>\n",
              "      <td id=\"T_2fcb5_row4_col5\" class=\"data row4 col5\" >0.674854</td>\n",
              "    </tr>\n",
              "    <tr>\n",
              "      <th id=\"T_2fcb5_level0_row5\" class=\"row_heading level0 row5\" >Salary</th>\n",
              "      <td id=\"T_2fcb5_row5_col0\" class=\"data row5 col0\" >-0.252782</td>\n",
              "      <td id=\"T_2fcb5_row5_col1\" class=\"data row5 col1\" >0.867488</td>\n",
              "      <td id=\"T_2fcb5_row5_col2\" class=\"data row5 col2\" >0.700669</td>\n",
              "      <td id=\"T_2fcb5_row5_col3\" class=\"data row5 col3\" >-0.069726</td>\n",
              "      <td id=\"T_2fcb5_row5_col4\" class=\"data row5 col4\" >0.674854</td>\n",
              "      <td id=\"T_2fcb5_row5_col5\" class=\"data row5 col5\" >1.000000</td>\n",
              "    </tr>\n",
              "  </tbody>\n",
              "</table>\n"
            ]
          },
          "metadata": {},
          "execution_count": 150
        }
      ]
    },
    {
      "cell_type": "markdown",
      "source": [
        "*   **The correlation between Sex and Salary falls in the negative range, it doesn't play a major factor in Salary determination.**\n",
        "\n",
        "\n",
        "\n",
        "\n",
        "*   **From this, we could establish that, legal proceedings on the backdrop of Gender Discrimination will get dismissed.**\n",
        "\n",
        "\n"
      ],
      "metadata": {
        "id": "blWoH3-KLq7C"
      }
    }
  ],
  "metadata": {
    "kernelspec": {
      "display_name": "Python 3",
      "language": "python",
      "name": "python3"
    },
    "language_info": {
      "codemirror_mode": {
        "name": "ipython",
        "version": 3
      },
      "file_extension": ".py",
      "mimetype": "text/x-python",
      "name": "python",
      "nbconvert_exporter": "python",
      "pygments_lexer": "ipython3",
      "version": "3.8.3"
    },
    "colab": {
      "name": "Assignment5_6_7 Guvi.ipynb",
      "provenance": [],
      "collapsed_sections": []
    }
  },
  "nbformat": 4,
  "nbformat_minor": 0
}